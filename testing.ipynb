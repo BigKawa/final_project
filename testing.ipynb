{
 "cells": [
  {
   "cell_type": "code",
   "execution_count": 1,
   "metadata": {},
   "outputs": [],
   "source": [
    "import pandas as pd\n",
    "from alpha_vantage.timeseries import TimeSeries\n",
    "from alpha_vantage.fundamentaldata import FundamentalData\n",
    "\n",
    "api_key_2 =\"JP7TLKK2YPF8I2ER\"\n",
    "api_key = \"34KPIW7MIZGD3P5R\"\n",
    "api = \"TKXGTAX1390IGOG7\"\n",
    "\n",
    "fd = FundamentalData(key= api_key, output_format=\"pandas\")\n",
    "ts = TimeSeries(key= api_key, output_format=\"pandas\")"
   ]
  },
  {
   "cell_type": "code",
   "execution_count": 1,
   "metadata": {},
   "outputs": [
    {
     "name": "stdout",
     "output_type": "stream",
     "text": [
      "Current Working Directory: c:\\Users\\Nutzer\\GitHub\\Ironhack\\Groupwork\\final_project\n",
      "Current Working Directory: C:\\Users\\Nutzer\\GitHub\\Ironhack\\Groupwork\\final_project\n"
     ]
    }
   ],
   "source": [
    "import pandas as pd\n",
    "import transform as t\n",
    "input_symbol = \"MSFT\""
   ]
  },
  {
   "cell_type": "code",
   "execution_count": 3,
   "metadata": {},
   "outputs": [
    {
     "name": "stderr",
     "output_type": "stream",
     "text": [
      "c:\\Users\\Nutzer\\GitHub\\Ironhack\\Groupwork\\final_project\\functions.py:84: FutureWarning: DataFrame.applymap has been deprecated. Use DataFrame.map instead.\n",
      "  df_prev[numeric_cols.columns] = numeric_cols.applymap(lambda x: 0 if not np.isfinite(x) else x) # Replace infinite values with 0\n",
      "c:\\Users\\Nutzer\\GitHub\\Ironhack\\Groupwork\\final_project\\functions.py:84: FutureWarning: DataFrame.applymap has been deprecated. Use DataFrame.map instead.\n",
      "  df_prev[numeric_cols.columns] = numeric_cols.applymap(lambda x: 0 if not np.isfinite(x) else x) # Replace infinite values with 0\n",
      "c:\\Users\\Nutzer\\GitHub\\Ironhack\\Groupwork\\final_project\\functions.py:84: FutureWarning: DataFrame.applymap has been deprecated. Use DataFrame.map instead.\n",
      "  df_prev[numeric_cols.columns] = numeric_cols.applymap(lambda x: 0 if not np.isfinite(x) else x) # Replace infinite values with 0\n"
     ]
    }
   ],
   "source": [
    "## Test \n",
    "import streamlit as st\n",
    "import pandas as pd\n",
    "import numpy as np\n",
    "import functions as py  # Import the functions module\n",
    "import transform as t\n",
    "\n",
    "\n",
    "\n",
    "# This will be the input of the streamlit app User\n",
    "st_input = \"AAPL\"\n",
    "bs_annual, pnl_annual, cf_annual = t.transform_pipeline(st_input)\n"
   ]
  },
  {
   "cell_type": "code",
   "execution_count": 7,
   "metadata": {},
   "outputs": [
    {
     "name": "stdout",
     "output_type": "stream",
     "text": [
      "Index(['fiscalDateEnding', 'totalAssets', 'totalCurrentAssets',\n",
      "       'cashAndCashEquivalentsAtCarryingValue', 'cashAndShortTermInvestments',\n",
      "       'inventory', 'currentNetReceivables', 'totalNonCurrentAssets',\n",
      "       'propertyPlantEquipment', 'accumulatedDepreciationAmortizationPPE',\n",
      "       'intangibleAssets', 'intangibleAssetsExcludingGoodwill', 'goodwill',\n",
      "       'investments', 'longTermInvestments', 'shortTermInvestments',\n",
      "       'otherCurrentAssets', 'otherNonCurrentAssets', 'totalLiabilities',\n",
      "       'totalCurrentLiabilities', 'currentAccountsPayable', 'deferredRevenue',\n",
      "       'currentDebt', 'shortTermDebt', 'totalNonCurrentLiabilities',\n",
      "       'capitalLeaseObligations', 'longTermDebt', 'currentLongTermDebt',\n",
      "       'longTermDebtNoncurrent', 'shortLongTermDebtTotal',\n",
      "       'otherCurrentLiabilities', 'otherNonCurrentLiabilities',\n",
      "       'totalShareholderEquity', 'treasuryStock', 'retainedEarnings',\n",
      "       'commonStock', 'commonStockSharesOutstanding', 'currentRatio',\n",
      "       'quickRatio', 'cashRatio', 'debtToAssetsRatio', 'debtToEquityRatio',\n",
      "       'equityRatio', 'workingCapital', 'netWorkingCapitalRatio',\n",
      "       'bookValuePerShare', 'insights', 'totalAssets_prev',\n",
      "       'totalCurrentAssets_prev', 'cashAndCashEquivalentsAtCarryingValue_prev',\n",
      "       'cashAndShortTermInvestments_prev', 'inventory_prev',\n",
      "       'currentNetReceivables_prev', 'totalNonCurrentAssets_prev',\n",
      "       'propertyPlantEquipment_prev',\n",
      "       'accumulatedDepreciationAmortizationPPE_prev', 'intangibleAssets_prev',\n",
      "       'intangibleAssetsExcludingGoodwill_prev', 'goodwill_prev',\n",
      "       'investments_prev', 'longTermInvestments_prev',\n",
      "       'shortTermInvestments_prev', 'otherCurrentAssets_prev',\n",
      "       'otherNonCurrentAssets_prev', 'totalLiabilities_prev',\n",
      "       'totalCurrentLiabilities_prev', 'currentAccountsPayable_prev',\n",
      "       'deferredRevenue_prev', 'currentDebt_prev', 'shortTermDebt_prev',\n",
      "       'totalNonCurrentLiabilities_prev', 'capitalLeaseObligations_prev',\n",
      "       'longTermDebt_prev', 'currentLongTermDebt_prev',\n",
      "       'longTermDebtNoncurrent_prev', 'shortLongTermDebtTotal_prev',\n",
      "       'otherCurrentLiabilities_prev', 'otherNonCurrentLiabilities_prev',\n",
      "       'totalShareholderEquity_prev', 'treasuryStock_prev',\n",
      "       'retainedEarnings_prev', 'commonStock_prev',\n",
      "       'commonStockSharesOutstanding_prev', 'currentRatio_prev',\n",
      "       'quickRatio_prev', 'cashRatio_prev', 'debtToAssetsRatio_prev',\n",
      "       'debtToEquityRatio_prev', 'equityRatio_prev', 'workingCapital_prev',\n",
      "       'netWorkingCapitalRatio_prev', 'bookValuePerShare_prev',\n",
      "       'insights_prev', 'previous_year_insights', 'year_comparison_insight',\n",
      "       'patterns'],\n",
      "      dtype='object')\n"
     ]
    }
   ],
   "source": [
    "print(bs_annual.columns)"
   ]
  },
  {
   "cell_type": "code",
   "execution_count": 12,
   "metadata": {},
   "outputs": [
    {
     "data": {
      "text/plain": [
       "\"In 2021.0, the current ratio was 1.07, which suggests the company has adequate but not excessive liquidity. The quick ratio in 2021.0 was 1.02, indicating good short-term financial health without dependence on inventory. The cash ratio in 2021.0 was 0.28, suggesting limited cash available to cover short-term liabilities. The company's debt-to-assets ratio in 2021.0 was 0.82, indicating a higher portion of assets financed by debt. In 2021.0, the debt-to-equity ratio was 4.56, indicating high leverage which may increase financial risk. The equity ratio in 2021.0 was 0.18, which may indicate a higher reliance on debt financing. The working capital in 2021.0 was 9355000000.00, indicating the company's ability to cover short-term liabilities. The net working capital ratio in 2021.0 was 0.03, suggesting limited working capital relative to the company's total assets. The book value per share in 2021.0 was 3.84, providing an indication of the per-share equity value available to shareholders.\""
      ]
     },
     "execution_count": 12,
     "metadata": {},
     "output_type": "execute_result"
    }
   ],
   "source": [
    "bs_annual.loc[3,\"insights\"]"
   ]
  },
  {
   "cell_type": "code",
   "execution_count": 5,
   "metadata": {},
   "outputs": [
    {
     "data": {
      "text/plain": [
       "\"In 2022.0, the company's current ratio was 0.88, indicating potential liquidity concerns. The quick ratio in 2022.0 was 0.85, which may indicate potential challenges in covering short-term liabilities without relying on inventory. The cash ratio in 2022.0 was 0.15, suggesting limited cash available to cover short-term liabilities. The company's debt-to-assets ratio in 2022.0 was 0.86, indicating a higher portion of assets financed by debt. In 2022.0, the debt-to-equity ratio was 5.96, indicating high leverage which may increase financial risk. The equity ratio in 2022.0 was 0.14, which may indicate a higher reliance on debt financing. The company had negative working capital of -18577000000.00 in 2022.0, indicating potential liquidity issues in meeting short-term obligations. The net working capital ratio in 2022.0 was -0.05, suggesting limited working capital relative to the company's total assets. The book value per share in 2022.0 was 3.18, providing an indication of the per-share equity value available to shareholders.\""
      ]
     },
     "execution_count": 5,
     "metadata": {},
     "output_type": "execute_result"
    }
   ],
   "source": [
    "bs_annual.loc[2,\"insights\"]"
   ]
  },
  {
   "cell_type": "code",
   "execution_count": 8,
   "metadata": {},
   "outputs": [
    {
     "data": {
      "text/plain": [
       "\"In 2021.0, the current ratio was 1.07, which suggests the company has adequate but not excessive liquidity. The quick ratio in 2021.0 was 1.02, indicating good short-term financial health without dependence on inventory. The cash ratio in 2021.0 was 0.28, suggesting limited cash available to cover short-term liabilities. The company's debt-to-assets ratio in 2021.0 was 0.82, indicating a higher portion of assets financed by debt. In 2021.0, the debt-to-equity ratio was 4.56, indicating high leverage which may increase financial risk. The equity ratio in 2021.0 was 0.18, which may indicate a higher reliance on debt financing. The working capital in 2021.0 was 9355000000.00, indicating the company's ability to cover short-term liabilities. The net working capital ratio in 2021.0 was 0.03, suggesting limited working capital relative to the company's total assets. The book value per share in 2021.0 was 3.84, providing an indication of the per-share equity value available to shareholders.\""
      ]
     },
     "execution_count": 8,
     "metadata": {},
     "output_type": "execute_result"
    }
   ],
   "source": [
    "bs_annual.loc[2,\"insights_prev\"]"
   ]
  },
  {
   "cell_type": "code",
   "execution_count": null,
   "metadata": {},
   "outputs": [
    {
     "data": {
      "text/plain": [
       "'In 2022, the Current Ratio was 0.88 (previous year: 1.00), which changed by -12.06% compared to the previous year. The Quick Ratio was 0.85 (previous year: 1.00), which changed by -15.28% compared to the previous year. The Debt-to-Equity Ratio was 5.96 (previous year: 4.00), which changed by 49.04% compared to the previous year. The Working Capital was -18577000000.00 (previous year: 9355000000.00), which changed by -298.58% compared to the previous year. The Book Value per Share was 3.18 (previous year: 3.00), which changed by 5.94% compared to the previous year.'"
      ]
     },
     "execution_count": 9,
     "metadata": {},
     "output_type": "execute_result"
    }
   ],
   "source": [
    "bs_annual.loc[2,\"previous_year_insights\"]"
   ]
  },
  {
   "cell_type": "code",
   "execution_count": 10,
   "metadata": {},
   "outputs": [
    {
     "data": {
      "text/plain": [
       "'Current Ratio has decreased by 12.06% compared to the previous year, suggesting potential challenges in covering short-term liabilities. Quick Ratio has decreased by 15.28% compared to the previous year, indicating potential difficulties in meeting short-term liabilities without inventory. Debt-to-Equity Ratio has increased by 49.04% compared to the previous year, reflecting higher financial leverage and increased risk for shareholders. Working Capital has decreased by 298.58% compared to the previous year, indicating potential liquidity issues in meeting short-term obligations. Book Value per Share has increased by 5.94% compared to the previous year, indicating a higher per-share equity value available to shareholders.'"
      ]
     },
     "execution_count": 10,
     "metadata": {},
     "output_type": "execute_result"
    }
   ],
   "source": [
    "bs_annual.loc[2,\"year_comparison_insight\"]"
   ]
  },
  {
   "cell_type": "code",
   "execution_count": 11,
   "metadata": {},
   "outputs": [
    {
     "data": {
      "text/plain": [
       "'The totalAssets has grown consistently over the past three years ending in 2022. The totalCurrentAssets has shown fluctuations over the past three years ending in 2022. The cashAndCashEquivalentsAtCarryingValue has declined consistently over the past three years ending in 2022. The cashAndShortTermInvestments has declined consistently over the past three years ending in 2022. The inventory has shown fluctuations over the past three years ending in 2022. The currentNetReceivables has grown consistently over the past three years ending in 2022. The totalNonCurrentAssets has grown consistently over the past three years ending in 2022. The propertyPlantEquipment has grown consistently over the past three years ending in 2022. The accumulatedDepreciationAmortizationPPE has grown consistently over the past three years ending in 2022. The intangibleAssets has remained stable over the past three years ending in 2022. The intangibleAssetsExcludingGoodwill has remained stable over the past three years ending in 2022. The goodwill has remained stable over the past three years ending in 2022. The investments has declined consistently over the past three years ending in 2022. The longTermInvestments has shown fluctuations over the past three years ending in 2022. The shortTermInvestments has declined consistently over the past three years ending in 2022. The otherCurrentAssets has grown consistently over the past three years ending in 2022. The otherNonCurrentAssets has grown consistently over the past three years ending in 2022. The totalLiabilities has grown consistently over the past three years ending in 2022. The totalCurrentLiabilities has grown consistently over the past three years ending in 2022. The currentAccountsPayable has grown consistently over the past three years ending in 2022. The deferredRevenue has grown consistently over the past three years ending in 2022. The currentDebt has grown consistently over the past three years ending in 2022. The shortTermDebt has grown consistently over the past three years ending in 2022. The totalNonCurrentLiabilities has shown fluctuations over the past three years ending in 2022. The capitalLeaseObligations has grown consistently over the past three years ending in 2022. The longTermDebt has declined consistently over the past three years ending in 2022. The currentLongTermDebt has grown consistently over the past three years ending in 2022. The longTermDebtNoncurrent has shown fluctuations over the past three years ending in 2022. The shortLongTermDebtTotal has shown fluctuations over the past three years ending in 2022. The otherCurrentLiabilities has grown consistently over the past three years ending in 2022. The otherNonCurrentLiabilities has declined consistently over the past three years ending in 2022. The totalShareholderEquity has declined consistently over the past three years ending in 2022. The treasuryStock has remained stable over the past three years ending in 2022. The retainedEarnings has declined consistently over the past three years ending in 2022. The commonStock has grown consistently over the past three years ending in 2022. The commonStockSharesOutstanding has declined consistently over the past three years ending in 2022. The currentRatio has declined consistently over the past three years ending in 2022. The quickRatio has declined consistently over the past three years ending in 2022. The cashRatio has declined consistently over the past three years ending in 2022. The debtToAssetsRatio has grown consistently over the past three years ending in 2022. The debtToEquityRatio has grown consistently over the past three years ending in 2022. The equityRatio has declined consistently over the past three years ending in 2022. The workingCapital has declined consistently over the past three years ending in 2022. The netWorkingCapitalRatio has declined consistently over the past three years ending in 2022. The bookValuePerShare has declined consistently over the past three years ending in 2022.'"
      ]
     },
     "execution_count": 11,
     "metadata": {},
     "output_type": "execute_result"
    }
   ],
   "source": [
    "bs_annual.loc[2,\"patterns\"]"
   ]
  },
  {
   "cell_type": "code",
   "execution_count": 14,
   "metadata": {},
   "outputs": [
    {
     "data": {
      "text/plain": [
       "'The grossProfit has grown consistently over the past three years ending in 2022. The totalRevenue has grown consistently over the past three years ending in 2022. The costOfRevenue has grown consistently over the past three years ending in 2022. The costofGoodsAndServicesSold has grown consistently over the past three years ending in 2022. The operatingIncome has grown consistently over the past three years ending in 2022. The sellingGeneralAndAdministrative has grown consistently over the past three years ending in 2022. The researchAndDevelopment has grown consistently over the past three years ending in 2022. The operatingExpenses has grown consistently over the past three years ending in 2022. The investmentIncomeNet has declined consistently over the past three years ending in 2022. The netInterestIncome has shown fluctuations over the past three years ending in 2022. The interestIncome has declined consistently over the past three years ending in 2022. The interestExpense has shown fluctuations over the past three years ending in 2022. The nonInterestIncome has grown consistently over the past three years ending in 2022. The otherNonOperatingIncome has shown fluctuations over the past three years ending in 2022. The depreciation has declined consistently over the past three years ending in 2022. The depreciationAndAmortization has shown fluctuations over the past three years ending in 2022. The incomeBeforeTax has grown consistently over the past three years ending in 2022. The incomeTaxExpense has grown consistently over the past three years ending in 2022. The interestAndDebtExpense has shown fluctuations over the past three years ending in 2022. The netIncomeFromContinuingOperations has grown consistently over the past three years ending in 2022. The comprehensiveIncomeNetOfTax has shown fluctuations over the past three years ending in 2022. The ebit has grown consistently over the past three years ending in 2022. The ebitda has grown consistently over the past three years ending in 2022. The netIncome has grown consistently over the past three years ending in 2022. The grossMargin has grown consistently over the past three years ending in 2022. The operatingMargin has grown consistently over the past three years ending in 2022. The netProfitMargin has shown fluctuations over the past three years ending in 2022. The interestCoverageRatio has shown fluctuations over the past three years ending in 2022.'"
      ]
     },
     "execution_count": 14,
     "metadata": {},
     "output_type": "execute_result"
    }
   ],
   "source": [
    "cf_annual.loc[2,\"patterns\"]"
   ]
  },
  {
   "cell_type": "code",
   "execution_count": 15,
   "metadata": {},
   "outputs": [
    {
     "name": "stderr",
     "output_type": "stream",
     "text": [
      "c:\\Users\\Nutzer\\GitHub\\Ironhack\\Groupwork\\final_project\\functions.py:84: FutureWarning: DataFrame.applymap has been deprecated. Use DataFrame.map instead.\n",
      "  df_prev[numeric_cols.columns] = numeric_cols.applymap(lambda x: 0 if not np.isfinite(x) else x) # Replace infinite values with 0\n",
      "c:\\Users\\Nutzer\\GitHub\\Ironhack\\Groupwork\\final_project\\functions.py:84: FutureWarning: DataFrame.applymap has been deprecated. Use DataFrame.map instead.\n",
      "  df_prev[numeric_cols.columns] = numeric_cols.applymap(lambda x: 0 if not np.isfinite(x) else x) # Replace infinite values with 0\n",
      "c:\\Users\\Nutzer\\GitHub\\Ironhack\\Groupwork\\final_project\\functions.py:84: FutureWarning: DataFrame.applymap has been deprecated. Use DataFrame.map instead.\n",
      "  df_prev[numeric_cols.columns] = numeric_cols.applymap(lambda x: 0 if not np.isfinite(x) else x) # Replace infinite values with 0\n"
     ]
    }
   ],
   "source": [
    "# Testing with CSV data as placeholder for now\n",
    "bs_annual = pd.read_csv(\"Data/bs_annual_MSFT.csv\")\n",
    "cf_annual = pd.read_csv(\"Data/cf_annual_MSFT.csv\")\n",
    "pnl_annual = pd.read_csv(\"Data/pnl_annual_MSFT.csv\")\n",
    "\n",
    "# Clean and process the data\n",
    "bs_annual, pnl_annual, cf_annual = t.clean_dataframes(bs_annual, pnl_annual, cf_annual)\n",
    "bs_annual, pnl_annual, cf_annual = t.calculate_kpis(bs_annual, pnl_annual, cf_annual)\n",
    "pnl_annual_prev, bs_annual_prev, cf_annual_prev = t.create_previous_year_dataframes(bs_annual, pnl_annual, cf_annual)\n",
    "pnl_concat, bs_concat, cf_concat = t.concatenate_dataframes(bs_annual, pnl_annual, cf_annual, bs_annual_prev, pnl_annual_prev, cf_annual_prev)\n",
    "pnl_concat, bs_concat, cf_concat = t.generate_insights(pnl_concat, bs_concat, cf_concat)"
   ]
  },
  {
   "cell_type": "code",
   "execution_count": 33,
   "metadata": {},
   "outputs": [
    {
     "data": {
      "text/plain": [
       "0     In 2023, Free Cash Flow decreased to 594750000...\n",
       "1     In 2022, Free Cash Flow increased to 651490000...\n",
       "2     In 2021, Free Cash Flow increased to 561180000...\n",
       "3     In 2020, Free Cash Flow increased to 452340000...\n",
       "4     In 2019, Free Cash Flow increased to 382600000...\n",
       "5     In 2018, Free Cash Flow increased to 322520000...\n",
       "6     In 2017, Free Cash Flow increased to 313780000...\n",
       "7     In 2016, Free Cash Flow decreased to 249820000...\n",
       "8     In 2015, Free Cash Flow increased to 402590000...\n",
       "9     In 2014, Free Cash Flow increased to 267460000...\n",
       "10    In 2013, Free Cash Flow decreased to 245760000...\n",
       "11    In 2012, Free Cash Flow increased to 293210000...\n",
       "12    In 2011, Free Cash Flow increased to 246390000...\n",
       "13    In 2010, Free Cash Flow increased to 220960000...\n",
       "Name: previous_year_insights, dtype: object"
      ]
     },
     "execution_count": 33,
     "metadata": {},
     "output_type": "execute_result"
    }
   ],
   "source": [
    "cf_concat[\"previous_year_insights\"]"
   ]
  },
  {
   "cell_type": "code",
   "execution_count": 31,
   "metadata": {},
   "outputs": [
    {
     "data": {
      "text/plain": [
       "Index(['fiscalDateEnding', 'operatingCashflow',\n",
       "       'paymentsForOperatingActivities', 'proceedsFromOperatingActivities',\n",
       "       'changeInOperatingLiabilities', 'changeInOperatingAssets',\n",
       "       'depreciationDepletionAndAmortization', 'capitalExpenditures',\n",
       "       'changeInReceivables', 'changeInInventory', 'profitLoss',\n",
       "       'cashflowFromInvestment', 'cashflowFromFinancing',\n",
       "       'proceedsFromRepaymentsOfShortTermDebt',\n",
       "       'paymentsForRepurchaseOfCommonStock', 'paymentsForRepurchaseOfEquity',\n",
       "       'paymentsForRepurchaseOfPreferredStock', 'dividendPayout',\n",
       "       'dividendPayoutCommonStock', 'dividendPayoutPreferredStock',\n",
       "       'proceedsFromIssuanceOfCommonStock',\n",
       "       'proceedsFromIssuanceOfLongTermDebtAndCapitalSecuritiesNet',\n",
       "       'proceedsFromIssuanceOfPreferredStock',\n",
       "       'proceedsFromRepurchaseOfEquity', 'proceedsFromSaleOfTreasuryStock',\n",
       "       'changeInCashAndCashEquivalents', 'changeInExchangeRate', 'netIncome',\n",
       "       'freeCashFlow', 'capitalExpenditureRatio', 'operatingCashFlowGrowth',\n",
       "       'dividendPayoutRatio', 'reinvestmentRatio', 'insights'],\n",
       "      dtype='object', name=0)"
      ]
     },
     "execution_count": 31,
     "metadata": {},
     "output_type": "execute_result"
    }
   ],
   "source": [
    "cf_annual.columns"
   ]
  },
  {
   "cell_type": "code",
   "execution_count": null,
   "metadata": {},
   "outputs": [],
   "source": []
  },
  {
   "cell_type": "code",
   "execution_count": null,
   "metadata": {},
   "outputs": [],
   "source": []
  }
 ],
 "metadata": {
  "kernelspec": {
   "display_name": "base",
   "language": "python",
   "name": "python3"
  },
  "language_info": {
   "codemirror_mode": {
    "name": "ipython",
    "version": 3
   },
   "file_extension": ".py",
   "mimetype": "text/x-python",
   "name": "python",
   "nbconvert_exporter": "python",
   "pygments_lexer": "ipython3",
   "version": "3.12.4"
  }
 },
 "nbformat": 4,
 "nbformat_minor": 2
}
