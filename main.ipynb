{
 "cells": [
  {
   "cell_type": "code",
   "execution_count": 16,
   "metadata": {},
   "outputs": [],
   "source": [
    "import pandas as pd"
   ]
  },
  {
   "cell_type": "code",
   "execution_count": 61,
   "metadata": {},
   "outputs": [],
   "source": [
    "### Inistialize data ###\n",
    "\n",
    "# Balance sheet Microsoft\n",
    "bs_annual_MSFT = pd.read_csv(\"data/bs_annual_MSFT.csv\")\n",
    "bs_annual_MSFT.columns = bs_annual_MSFT.iloc[0]\n",
    "bs_annual_MSFT = bs_annual_MSFT[2:]\n",
    "bs_annual_MSFT.set_index(\"fiscalDateEnding\", inplace=True)  # Set the index as fiscalDateEnding\n",
    "bs_annual_MSFT = bs_annual_MSFT.apply(pd.to_numeric, errors='coerce').fillna(0).astype(int)  # Fill NaN with 0\n",
    "\n",
    "# Cashflow Microsoft\n",
    "cf_annual_MSFT = pd.read_csv(\"data/cf_annual_MSFT.csv\")\n",
    "cf_annual_MSFT.columns = cf_annual_MSFT.iloc[0]\n",
    "cf_annual_MSFT = cf_annual_MSFT[2:]\n",
    "cf_annual_MSFT.set_index(\"fiscalDateEnding\", inplace=True)  # Set the index as fiscalDateEnding\n",
    "cf_annual_MSFT = cf_annual_MSFT.apply(pd.to_numeric, errors='coerce').fillna(0).astype(int)  # Fill NaN with 0\n",
    "\n",
    "# Income statement Microsoft\n",
    "pnl_annual_MSFT = pd.read_csv(\"data/pnl_annual_MSFT.csv\")\n",
    "pnl_annual_MSFT.columns = pnl_annual_MSFT.iloc[0]\n",
    "pnl_annual_MSFT = pnl_annual_MSFT[2:]\n",
    "pnl_annual_MSFT.set_index(\"fiscalDateEnding\", inplace=True)  # Set the index as fiscalDateEnding\n",
    "pnl_annual_MSFT = pnl_annual_MSFT.apply(pd.to_numeric, errors='coerce').fillna(0).astype(int)  # Fill NaN with 0"
   ]
  },
  {
   "cell_type": "code",
   "execution_count": null,
   "metadata": {},
   "outputs": [],
   "source": []
  },
  {
   "cell_type": "code",
   "execution_count": null,
   "metadata": {},
   "outputs": [],
   "source": []
  }
 ],
 "metadata": {
  "kernelspec": {
   "display_name": "Python 3",
   "language": "python",
   "name": "python3"
  },
  "language_info": {
   "codemirror_mode": {
    "name": "ipython",
    "version": 3
   },
   "file_extension": ".py",
   "mimetype": "text/x-python",
   "name": "python",
   "nbconvert_exporter": "python",
   "pygments_lexer": "ipython3",
   "version": "3.12.4"
  }
 },
 "nbformat": 4,
 "nbformat_minor": 2
}
