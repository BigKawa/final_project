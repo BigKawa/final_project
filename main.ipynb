{
 "cells": [
  {
   "cell_type": "code",
   "execution_count": 1,
   "metadata": {},
   "outputs": [],
   "source": [
    "import pandas as pd\n",
    "import functions as f\n",
    "import matplotlib.pyplot as plt\n",
    "import seaborn as sns\n",
    "\n",
    "# Suppress the SettingWithCopyWarning globally\n",
    "pd.options.mode.chained_assignment = None"
   ]
  },
  {
   "cell_type": "markdown",
   "metadata": {},
   "source": [
    "### Initializing"
   ]
  },
  {
   "cell_type": "code",
   "execution_count": 2,
   "metadata": {},
   "outputs": [],
   "source": [
    "### Inistialize data ###\n",
    "\n",
    "# balance sheet Microsoft\n",
    "bs_annual_MSFT = pd.read_csv(\"data/bs_annual_MSFT.csv\")\n",
    "bs_annual_MSFT = f.cleaning(bs_annual_MSFT)\n",
    "\n",
    "# cashflow Microsoft\n",
    "cf_annual_MSFT = pd.read_csv(\"data/cf_annual_MSFT.csv\")\n",
    "cf_annual_MSFT = f.cleaning(cf_annual_MSFT)\n",
    "\n",
    "# income statement Microsoft\n",
    "pnl_annual_MSFT = pd.read_csv(\"data/pnl_annual_MSFT.csv\")\n",
    "pnl_annual_MSFT = f.cleaning(pnl_annual_MSFT)"
   ]
  },
  {
   "cell_type": "code",
   "execution_count": 3,
   "metadata": {},
   "outputs": [],
   "source": [
    "# calculating KPI for cashflow\n",
    "cf_annual_MSFT = f.calculate_kpi_cf(cf_annual_MSFT)\n",
    "cf_annual_MSFT['insights'] = cf_annual_MSFT.apply(f.generate_cashflow_insights, axis=1)"
   ]
  },
  {
   "cell_type": "code",
   "execution_count": 4,
   "metadata": {},
   "outputs": [],
   "source": [
    "# Calculating KPIs for pnl\n",
    "pnl_annual_MSFT = f.calculating_kpi_pnl(pnl_annual_MSFT)\n",
    "pnl_annual_MSFT[\"insights\"] = pnl_annual_MSFT.apply(f.generate_automated_insights,axis=1)"
   ]
  },
  {
   "cell_type": "code",
   "execution_count": 5,
   "metadata": {},
   "outputs": [],
   "source": [
    "# Creating a previous year file\n",
    "pnl_annual_MSFT_prev = f.create_prev_year(pnl_annual_MSFT)\n",
    "bs_annual_MSFT_prev = f.create_prev_year(bs_annual_MSFT)\n",
    "cf_annual_MSFT_prev = f.create_prev_year(cf_annual_MSFT)"
   ]
  },
  {
   "cell_type": "code",
   "execution_count": 6,
   "metadata": {},
   "outputs": [],
   "source": [
    "# Creating concatenated files\n",
    "pnl_concat_MSFT = pd.concat([pnl_annual_MSFT,pnl_annual_MSFT_prev],axis=1)\n",
    "bs_concat_MSFT = pd.concat([bs_annual_MSFT,bs_annual_MSFT_prev],axis=1)\n",
    "cf_concat_MSFT = pd.concat([cf_annual_MSFT,cf_annual_MSFT_prev],axis=1)"
   ]
  },
  {
   "cell_type": "markdown",
   "metadata": {},
   "source": [
    "### Calculating"
   ]
  },
  {
   "cell_type": "markdown",
   "metadata": {},
   "source": [
    "Calculating **prev year ** insights"
   ]
  },
  {
   "cell_type": "code",
   "execution_count": 7,
   "metadata": {},
   "outputs": [],
   "source": [
    "# Calculating Generating Insights for prev year for concatenated files\n",
    "pnl_concat_MSFT[\"previous_year_insights\"] = pnl_concat_MSFT.apply(f.generate_pnl_yoy_insights,axis=1)\n",
    "cf_concat_MSFT[\"previous_year_insights\"] = cf_concat_MSFT.apply(f.generate_cf_yoy_insights, axis=1)\n"
   ]
  },
  {
   "cell_type": "markdown",
   "metadata": {},
   "source": [
    "Calculating **year comparison**"
   ]
  },
  {
   "cell_type": "code",
   "execution_count": 8,
   "metadata": {},
   "outputs": [],
   "source": [
    "# Creating column for yeah comparison pnl\n",
    "pnl_concat_MSFT[\"year_comparison_insight\"] = pnl_concat_MSFT.apply(f.yeah_comparison_pnl,axis=1)\n",
    "pnl_concat_MSFT[\"fiscalDateEnding\"] = pnl_concat_MSFT[\"fiscalDateEnding\"].fillna(0).astype(int)"
   ]
  },
  {
   "cell_type": "code",
   "execution_count": 9,
   "metadata": {},
   "outputs": [],
   "source": [
    "# Creating column for yeah comparison cf\n",
    "cf_concat_MSFT[\"year_comparison_insight\"] = cf_concat_MSFT.apply(f.year_comparison_cf, axis=1)"
   ]
  },
  {
   "cell_type": "markdown",
   "metadata": {},
   "source": [
    "calculating **patterns**"
   ]
  },
  {
   "cell_type": "code",
   "execution_count": 10,
   "metadata": {},
   "outputs": [],
   "source": [
    "# Generate insights for each row in the DataFrame\n",
    "pnl_concat_MSFT[\"patterns\"] = f.generate_insights_pnl_multi_year(pnl_concat_MSFT)\n",
    "# Generate insights for each row in the DataFrame\n",
    "cf_concat_MSFT[\"patterns\"] = f.generate_insights_cf_multi_year(cf_concat_MSFT)"
   ]
  },
  {
   "cell_type": "markdown",
   "metadata": {},
   "source": [
    "### Testing"
   ]
  },
  {
   "cell_type": "code",
   "execution_count": 18,
   "metadata": {},
   "outputs": [
    {
     "name": "stdout",
     "output_type": "stream",
     "text": [
      "Insights : The Interest Coverage Ratio was healthy at 21.469316866074873, showing that the company has no issues covering its interest obligations.\n",
      "Prev.Year Insights : In 2020, the Gross Margin was 68.99283289324784% (previous year: 67%), which changed by 2.97% compared to the previous year. The Operating Margin was 37.69243361351715% (previous year: 34%), which changed by 10.86% compared to the previous year. The Net Profit Margin was 31.516053038013425% (previous year: 31%), which changed by 1.66% compared to the previous year. The Interest Coverage Ratio was 21.469316866074873 (previous year: 17), which changed by 26.29% compared to the previous year. Total Revenue was 140503000000 (previous year: 123495000000), which changed by 13.77% compared to the previous year. Net Income was 44281000000 (previous year: 39240000000), which changed by 12.85% compared to the previous year. Operating Expenses were 46350000000 (previous year: 41874000000), which changed by 10.69% compared to the previous year. EBITDA was 57838000000 (previous year: 48274000000), which changed by 19.81% compared to the previous year.\n",
      "year comparison Insights : Total Revenue has grown compared to the previous year, indicating strong market demand. Gross Margin has improved compared to the previous year, suggesting better cost management. Operating Margin has increased compared to the previous year, reflecting enhanced operational efficiency. Net Income has grown compared to the previous year, indicating improved profitability.\n"
     ]
    }
   ],
   "source": [
    "cell_content = pnl_concat_MSFT.at[3,\"insights\"]\n",
    "print(F\"Insights : {cell_content}\")\n",
    "cell_content = pnl_concat_MSFT.at[3,\"previous_year_insights\"]\n",
    "print(F\"Prev.Year Insights : {cell_content}\")\n",
    "cell_content = pnl_concat_MSFT.at[3,\"year_comparison_insight\"]\n",
    "print(F\"year comparison Insights : {cell_content}\")"
   ]
  },
  {
   "cell_type": "code",
   "execution_count": 19,
   "metadata": {},
   "outputs": [
    {
     "name": "stdout",
     "output_type": "stream",
     "text": [
      "Insights : In 2020.0, the company generated a **high Free Cash Flow** of 45234000000.0, indicating strong cash generation and suggesting significant potential for expansion, dividend payouts, or debt reduction. The Capital Expenditure Ratio was **3.93** (classified as **low**), suggesting the company is retaining a substantial portion of its operating cash flow, which could imply a conservative stance toward capital reinvestment. The Operating Cash Flow Growth was **16.27%**, classified as **high growth**, indicating significant improvement in cash generation over the past year, which reflects well on the company's operational efficiency. The Dividend Payout Ratio was **0.25** (classified as **low**), suggesting that the company retains a large portion of its cash flow for reinvestment and growth. The company reinvested **0.25** (classified as **moderate**) of its cash flow, suggesting a balanced approach to using cash for reinvestment and other purposes.\n",
      "Prev.Year Insights : In 2020, Free Cash Flow increased to 45234000000, compared to 38260000000 in the previous year, indicating improved cash generation efficiency. The Capital Expenditure Ratio increased to 3.93, up from 3.00, suggesting increased reinvestment in growth initiatives. The Operating Cash Flow Growth rate declined to 16.27% from 18.00%, which may indicate reduced operational efficiency. The Dividend Payout Ratio increased to 0.25, compared to 0.00 in the previous year, showing a greater focus on rewarding shareholders. The Reinvestment Ratio increased to 0.25, up from 0.00, reflecting a stronger focus on business growth.\n",
      "year comparison Insights : Free Cash Flow has increased by 18.23% compared to the previous year, indicating improved cash generation. Capital Expenditure Ratio has increased by 30.98% compared to the previous year, indicating a higher focus on reinvestment in growth. Operating Cash Flow Growth has decreased by 9.62% compared to the previous year, which may indicate a decline in cash generation efficiency.\n"
     ]
    }
   ],
   "source": [
    "cell_content = cf_concat_MSFT.at[3,\"insights\"]\n",
    "print(F\"Insights : {cell_content}\")\n",
    "cell_content = cf_concat_MSFT.at[3,\"previous_year_insights\"]\n",
    "print(F\"Prev.Year Insights : {cell_content}\")\n",
    "cell_content = cf_concat_MSFT.at[3,\"year_comparison_insight\"]\n",
    "print(F\"year comparison Insights : {cell_content}\")"
   ]
  },
  {
   "cell_type": "code",
   "execution_count": null,
   "metadata": {},
   "outputs": [],
   "source": []
  }
 ],
 "metadata": {
  "kernelspec": {
   "display_name": "base",
   "language": "python",
   "name": "python3"
  },
  "language_info": {
   "codemirror_mode": {
    "name": "ipython",
    "version": 3
   },
   "file_extension": ".py",
   "mimetype": "text/x-python",
   "name": "python",
   "nbconvert_exporter": "python",
   "pygments_lexer": "ipython3",
   "version": "3.12.4"
  }
 },
 "nbformat": 4,
 "nbformat_minor": 2
}
