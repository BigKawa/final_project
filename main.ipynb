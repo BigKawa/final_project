{
 "cells": [
  {
   "cell_type": "code",
   "execution_count": 1,
   "metadata": {},
   "outputs": [],
   "source": [
    "import pandas as pd\n",
    "import functions as f\n",
    "import matplotlib.pyplot as plt\n",
    "import seaborn as sns"
   ]
  },
  {
   "cell_type": "code",
   "execution_count": 2,
   "metadata": {},
   "outputs": [],
   "source": [
    "### Inistialize data ###\n",
    "\n",
    "# balance sheet Microsoft\n",
    "bs_annual_MSFT = pd.read_csv(\"data/bs_annual_MSFT.csv\")\n",
    "bs_annual_MSFT = f.cleaning(bs_annual_MSFT)\n",
    "\n",
    "# cashflow Microsoft\n",
    "cf_annual_MSFT = pd.read_csv(\"data/cf_annual_MSFT.csv\")\n",
    "cf_annual_MSFT = f.cleaning(cf_annual_MSFT)\n",
    "\n",
    "# income statement Microsoft\n",
    "pnl_annual_MSFT = pd.read_csv(\"data/pnl_annual_MSFT.csv\")\n",
    "pnl_annual_MSFT = f.cleaning(pnl_annual_MSFT)"
   ]
  },
  {
   "cell_type": "code",
   "execution_count": 3,
   "metadata": {},
   "outputs": [],
   "source": [
    "# Calculating KPIs\n",
    "pnl_annual_MSFT = f.calculating_kpi_pnl(pnl_annual_MSFT)\n",
    "pnl_annual_MSFT[\"insights\"] = pnl_annual_MSFT.apply(f.generate_automated_insights,axis=1)"
   ]
  },
  {
   "cell_type": "code",
   "execution_count": 4,
   "metadata": {},
   "outputs": [],
   "source": [
    "# Creating a previous year file\n",
    "pnl_annual_MSFT_prev = f.create_prev_year(pnl_annual_MSFT)\n",
    "bs_annual_MSFT_prev = f.create_prev_year(bs_annual_MSFT)\n",
    "cf_annual_MSFT_prev = f.create_prev_year(cf_annual_MSFT)"
   ]
  },
  {
   "cell_type": "code",
   "execution_count": 5,
   "metadata": {},
   "outputs": [],
   "source": [
    "# Creating concatenated files\n",
    "pnl_concat_MSFT = pd.concat([pnl_annual_MSFT,pnl_annual_MSFT_prev],axis=1)\n",
    "bs_concat_MSFT = pd.concat([bs_annual_MSFT,bs_annual_MSFT_prev],axis=1)\n",
    "cf_concat_MSFT = pd.concat([cf_annual_MSFT,cf_annual_MSFT_prev],axis=1)"
   ]
  },
  {
   "cell_type": "code",
   "execution_count": 6,
   "metadata": {},
   "outputs": [],
   "source": [
    "# Calculating Generating Insights for prev year for concatenated files\n",
    "pnl_concat_MSFT[\"Previous year insights\"] = pnl_concat_MSFT.apply(f.generate_insights_pnl,axis=1)"
   ]
  },
  {
   "cell_type": "code",
   "execution_count": 7,
   "metadata": {},
   "outputs": [],
   "source": [
    "# Creating column for yeah comparison\n",
    "pnl_concat_MSFT[\"year_comparison_insight\"] = pnl_concat_MSFT.apply(f.yeah_comparison_pnl,axis=1)\n",
    "pnl_annual_MSFT[\"fiscalDateEnding\"] = pnl_concat_MSFT[\"fiscalDateEnding\"].fillna(0).astype(int)"
   ]
  },
  {
   "cell_type": "code",
   "execution_count": 8,
   "metadata": {},
   "outputs": [],
   "source": [
    "# Generate insights for each row in the DataFrame\n",
    "pnl_concat_MSFT[\"patterns\"] = f.generate_insights_pnl_multi_year(pnl_concat_MSFT)"
   ]
  },
  {
   "cell_type": "code",
   "execution_count": 9,
   "metadata": {},
   "outputs": [
    {
     "name": "stdout",
     "output_type": "stream",
     "text": [
      "Insights : The Interest Coverage Ratio was healthy at 21.469316866074873, showing that the company has no issues covering its interest obligations.\n",
      "Prev.Year Insights : In 2020, the Gross Margin was 68.99283289324784% (previous year: 67%), which changed by 2.97% compared to the previous year. The Operating Margin was 37.69243361351715% (previous year: 34%), which changed by 10.86% compared to the previous year. The Net Profit Margin was 31.516053038013425% (previous year: 31%), which changed by 1.66% compared to the previous year. The Interest Coverage Ratio was 21.469316866074873 (previous year: 17), which changed by 26.29% compared to the previous year. Total Revenue was 140503000000 (previous year: 123495000000), which changed by 13.77% compared to the previous year. Net Income was 44281000000 (previous year: 39240000000), which changed by 12.85% compared to the previous year. Operating Expenses were 46350000000 (previous year: 41874000000), which changed by 10.69% compared to the previous year. EBITDA was 57838000000 (previous year: 48274000000), which changed by 19.81% compared to the previous year.\n",
      "year comparison Insights : Total Revenue has grown compared to the previous year, indicating strong market demand. Gross Margin has improved compared to the previous year, suggesting better cost management. Operating Margin has increased compared to the previous year, reflecting enhanced operational efficiency. Net Income has grown compared to the previous year, indicating improved profitability.\n"
     ]
    }
   ],
   "source": [
    "cell_content = pnl_concat_MSFT.at[3,\"insights\"]\n",
    "print(F\"Insights : {cell_content}\")\n",
    "cell_content = pnl_concat_MSFT.at[3,\"Previous year insights\"]\n",
    "print(F\"Prev.Year Insights : {cell_content}\")\n",
    "cell_content = pnl_concat_MSFT.at[3,\"year_comparison_insight\"]\n",
    "print(F\"year comparison Insights : {cell_content}\")"
   ]
  },
  {
   "cell_type": "code",
   "execution_count": 10,
   "metadata": {},
   "outputs": [
    {
     "data": {
      "text/plain": [
       "Index(['fiscalDateEnding', 'grossProfit', 'totalRevenue', 'costOfRevenue',\n",
       "       'costofGoodsAndServicesSold', 'operatingIncome',\n",
       "       'sellingGeneralAndAdministrative', 'researchAndDevelopment',\n",
       "       'operatingExpenses', 'investmentIncomeNet', 'netInterestIncome',\n",
       "       'interestIncome', 'interestExpense', 'nonInterestIncome',\n",
       "       'otherNonOperatingIncome', 'depreciation',\n",
       "       'depreciationAndAmortization', 'incomeBeforeTax', 'incomeTaxExpense',\n",
       "       'interestAndDebtExpense', 'netIncomeFromContinuingOperations',\n",
       "       'comprehensiveIncomeNetOfTax', 'ebit', 'ebitda', 'netIncome',\n",
       "       'grossMargin', 'operatingMargin', 'netProfitMargin',\n",
       "       'interestCoverageRatio', 'insights', 'grossProfit_prev',\n",
       "       'totalRevenue_prev', 'costOfRevenue_prev',\n",
       "       'costofGoodsAndServicesSold_prev', 'operatingIncome_prev',\n",
       "       'sellingGeneralAndAdministrative_prev', 'researchAndDevelopment_prev',\n",
       "       'operatingExpenses_prev', 'investmentIncomeNet_prev',\n",
       "       'netInterestIncome_prev', 'interestIncome_prev', 'interestExpense_prev',\n",
       "       'nonInterestIncome_prev', 'otherNonOperatingIncome_prev',\n",
       "       'depreciation_prev', 'depreciationAndAmortization_prev',\n",
       "       'incomeBeforeTax_prev', 'incomeTaxExpense_prev',\n",
       "       'interestAndDebtExpense_prev', 'netIncomeFromContinuingOperations_prev',\n",
       "       'comprehensiveIncomeNetOfTax_prev', 'ebit_prev', 'ebitda_prev',\n",
       "       'netIncome_prev', 'grossMargin_prev', 'operatingMargin_prev',\n",
       "       'netProfitMargin_prev', 'interestCoverageRatio_prev',\n",
       "       'Previous year insights', 'year_comparison_insight', 'patterns'],\n",
       "      dtype='object')"
      ]
     },
     "execution_count": 10,
     "metadata": {},
     "output_type": "execute_result"
    }
   ],
   "source": [
    "pnl_concat_MSFT.columns"
   ]
  },
  {
   "cell_type": "code",
   "execution_count": 10,
   "metadata": {},
   "outputs": [],
   "source": []
  },
  {
   "cell_type": "code",
   "execution_count": 11,
   "metadata": {},
   "outputs": [
    {
     "data": {
      "text/html": [
       "<div>\n",
       "<style scoped>\n",
       "    .dataframe tbody tr th:only-of-type {\n",
       "        vertical-align: middle;\n",
       "    }\n",
       "\n",
       "    .dataframe tbody tr th {\n",
       "        vertical-align: top;\n",
       "    }\n",
       "\n",
       "    .dataframe thead th {\n",
       "        text-align: right;\n",
       "    }\n",
       "</style>\n",
       "<table border=\"1\" class=\"dataframe\">\n",
       "  <thead>\n",
       "    <tr style=\"text-align: right;\">\n",
       "      <th></th>\n",
       "      <th>fiscalDateEnding</th>\n",
       "      <th>grossMargin</th>\n",
       "      <th>patterns</th>\n",
       "    </tr>\n",
       "  </thead>\n",
       "  <tbody>\n",
       "    <tr>\n",
       "      <th>0</th>\n",
       "      <td>2023</td>\n",
       "      <td>69.632462</td>\n",
       "      <td>The grossProfit has grown consistently over th...</td>\n",
       "    </tr>\n",
       "    <tr>\n",
       "      <th>1</th>\n",
       "      <td>2022</td>\n",
       "      <td>69.155419</td>\n",
       "      <td>The grossProfit has grown consistently over th...</td>\n",
       "    </tr>\n",
       "    <tr>\n",
       "      <th>2</th>\n",
       "      <td>2021</td>\n",
       "      <td>69.819690</td>\n",
       "      <td>The grossProfit has grown consistently over th...</td>\n",
       "    </tr>\n",
       "    <tr>\n",
       "      <th>3</th>\n",
       "      <td>2020</td>\n",
       "      <td>68.992833</td>\n",
       "      <td>The grossProfit has grown consistently over th...</td>\n",
       "    </tr>\n",
       "    <tr>\n",
       "      <th>4</th>\n",
       "      <td>2019</td>\n",
       "      <td>67.154946</td>\n",
       "      <td>The grossProfit has grown consistently over th...</td>\n",
       "    </tr>\n",
       "    <tr>\n",
       "      <th>5</th>\n",
       "      <td>2018</td>\n",
       "      <td>67.156927</td>\n",
       "      <td>The grossProfit has grown consistently over th...</td>\n",
       "    </tr>\n",
       "    <tr>\n",
       "      <th>6</th>\n",
       "      <td>2017</td>\n",
       "      <td>64.522476</td>\n",
       "      <td>The grossProfit has shown fluctuations over th...</td>\n",
       "    </tr>\n",
       "    <tr>\n",
       "      <th>7</th>\n",
       "      <td>2016</td>\n",
       "      <td>64.038879</td>\n",
       "      <td>The grossProfit has shown fluctuations over th...</td>\n",
       "    </tr>\n",
       "    <tr>\n",
       "      <th>8</th>\n",
       "      <td>2015</td>\n",
       "      <td>64.695448</td>\n",
       "      <td>The grossProfit has grown consistently over th...</td>\n",
       "    </tr>\n",
       "    <tr>\n",
       "      <th>9</th>\n",
       "      <td>2014</td>\n",
       "      <td>68.816003</td>\n",
       "      <td>The grossProfit has grown consistently over th...</td>\n",
       "    </tr>\n",
       "    <tr>\n",
       "      <th>10</th>\n",
       "      <td>2013</td>\n",
       "      <td>73.814693</td>\n",
       "      <td>The grossProfit has grown consistently over th...</td>\n",
       "    </tr>\n",
       "    <tr>\n",
       "      <th>11</th>\n",
       "      <td>2012</td>\n",
       "      <td>76.221803</td>\n",
       "      <td>The grossProfit has grown consistently over th...</td>\n",
       "    </tr>\n",
       "    <tr>\n",
       "      <th>12</th>\n",
       "      <td>2011</td>\n",
       "      <td>77.729008</td>\n",
       "      <td>Insufficient data for trend analysis over thre...</td>\n",
       "    </tr>\n",
       "    <tr>\n",
       "      <th>13</th>\n",
       "      <td>2010</td>\n",
       "      <td>80.162922</td>\n",
       "      <td>Insufficient data for trend analysis over thre...</td>\n",
       "    </tr>\n",
       "  </tbody>\n",
       "</table>\n",
       "</div>"
      ],
      "text/plain": [
       "    fiscalDateEnding  grossMargin  \\\n",
       "0               2023    69.632462   \n",
       "1               2022    69.155419   \n",
       "2               2021    69.819690   \n",
       "3               2020    68.992833   \n",
       "4               2019    67.154946   \n",
       "5               2018    67.156927   \n",
       "6               2017    64.522476   \n",
       "7               2016    64.038879   \n",
       "8               2015    64.695448   \n",
       "9               2014    68.816003   \n",
       "10              2013    73.814693   \n",
       "11              2012    76.221803   \n",
       "12              2011    77.729008   \n",
       "13              2010    80.162922   \n",
       "\n",
       "                                             patterns  \n",
       "0   The grossProfit has grown consistently over th...  \n",
       "1   The grossProfit has grown consistently over th...  \n",
       "2   The grossProfit has grown consistently over th...  \n",
       "3   The grossProfit has grown consistently over th...  \n",
       "4   The grossProfit has grown consistently over th...  \n",
       "5   The grossProfit has grown consistently over th...  \n",
       "6   The grossProfit has shown fluctuations over th...  \n",
       "7   The grossProfit has shown fluctuations over th...  \n",
       "8   The grossProfit has grown consistently over th...  \n",
       "9   The grossProfit has grown consistently over th...  \n",
       "10  The grossProfit has grown consistently over th...  \n",
       "11  The grossProfit has grown consistently over th...  \n",
       "12  Insufficient data for trend analysis over thre...  \n",
       "13  Insufficient data for trend analysis over thre...  "
      ]
     },
     "execution_count": 11,
     "metadata": {},
     "output_type": "execute_result"
    }
   ],
   "source": [
    "pnl_concat_MSFT[[\"fiscalDateEnding\",\"grossMargin\",\"patterns\"]]"
   ]
  },
  {
   "cell_type": "code",
   "execution_count": null,
   "metadata": {},
   "outputs": [],
   "source": []
  }
 ],
 "metadata": {
  "kernelspec": {
   "display_name": "base",
   "language": "python",
   "name": "python3"
  },
  "language_info": {
   "codemirror_mode": {
    "name": "ipython",
    "version": 3
   },
   "file_extension": ".py",
   "mimetype": "text/x-python",
   "name": "python",
   "nbconvert_exporter": "python",
   "pygments_lexer": "ipython3",
   "version": "3.12.4"
  }
 },
 "nbformat": 4,
 "nbformat_minor": 2
}
