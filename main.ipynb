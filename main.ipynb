{
 "cells": [
  {
   "cell_type": "code",
   "execution_count": 1,
   "metadata": {},
   "outputs": [],
   "source": [
    "import pandas as pd\n",
    "import functions as f\n",
    "import matplotlib.pyplot as plt\n",
    "import seaborn as sns"
   ]
  },
  {
   "cell_type": "code",
   "execution_count": 2,
   "metadata": {},
   "outputs": [],
   "source": [
    "### Inistialize data ###\n",
    "\n",
    "# balance sheet Microsoft\n",
    "bs_annual_MSFT = pd.read_csv(\"data/bs_annual_MSFT.csv\")\n",
    "bs_annual_MSFT = f.second_clean(bs_annual_MSFT)\n",
    "\n",
    "# cashflow Microsoft\n",
    "cf_annual_MSFT = pd.read_csv(\"data/cf_annual_MSFT.csv\")\n",
    "cf_annual_MSFT = f.second_clean(cf_annual_MSFT)\n",
    "\n",
    "# income statement Microsoft\n",
    "pnl_annual_MSFT = pd.read_csv(\"data/pnl_annual_MSFT.csv\")\n",
    "pnl_annual_MSFT = f.second_clean(pnl_annual_MSFT)"
   ]
  },
  {
   "cell_type": "code",
   "execution_count": 3,
   "metadata": {},
   "outputs": [],
   "source": [
    "# Calculating KPIs\n",
    "pnl_annual_MSFT = f.calculating_kpi_pnl(pnl_annual_MSFT)\n",
    "pnl_annual_MSFT[\"insights\"] = pnl_annual_MSFT.apply(f.generate_automated_insights,axis=1)"
   ]
  },
  {
   "cell_type": "code",
   "execution_count": 4,
   "metadata": {},
   "outputs": [],
   "source": [
    "# Creating a previous year file\n",
    "pnl_annual_MSFT_prev = f.create_prev_year(pnl_annual_MSFT)\n",
    "bs_annual_MSFT_prev = f.create_prev_year(bs_annual_MSFT)\n",
    "cf_annual_MSFT_prev = f.create_prev_year(cf_annual_MSFT)"
   ]
  },
  {
   "cell_type": "code",
   "execution_count": 5,
   "metadata": {},
   "outputs": [],
   "source": [
    "# Creating concatenated files\n",
    "pnl_concat_MSFT = pd.concat([pnl_annual_MSFT,pnl_annual_MSFT_prev],axis=1)\n",
    "bs_concat_MSFT = pd.concat([bs_annual_MSFT,bs_annual_MSFT_prev],axis=1)\n",
    "cf_concat_MSFT = pd.concat([cf_annual_MSFT,cf_annual_MSFT_prev],axis=1)"
   ]
  },
  {
   "cell_type": "code",
   "execution_count": 6,
   "metadata": {},
   "outputs": [
    {
     "data": {
      "text/plain": [
       "Index(['fiscalDateEnding', 'grossProfit', 'totalRevenue', 'costOfRevenue',\n",
       "       'costofGoodsAndServicesSold', 'operatingIncome',\n",
       "       'sellingGeneralAndAdministrative', 'researchAndDevelopment',\n",
       "       'operatingExpenses', 'investmentIncomeNet', 'netInterestIncome',\n",
       "       'interestIncome', 'interestExpense', 'nonInterestIncome',\n",
       "       'otherNonOperatingIncome', 'depreciation',\n",
       "       'depreciationAndAmortization', 'incomeBeforeTax', 'incomeTaxExpense',\n",
       "       'interestAndDebtExpense', 'netIncomeFromContinuingOperations',\n",
       "       'comprehensiveIncomeNetOfTax', 'ebit', 'ebitda', 'netIncome',\n",
       "       'grossMargin', 'operatingMargin', 'netProfitMargin',\n",
       "       'interestCoverageRatio', 'insights', 'grossProfit_prev',\n",
       "       'totalRevenue_prev', 'costOfRevenue_prev',\n",
       "       'costofGoodsAndServicesSold_prev', 'operatingIncome_prev',\n",
       "       'sellingGeneralAndAdministrative_prev', 'researchAndDevelopment_prev',\n",
       "       'operatingExpenses_prev', 'investmentIncomeNet_prev',\n",
       "       'netInterestIncome_prev', 'interestIncome_prev', 'interestExpense_prev',\n",
       "       'nonInterestIncome_prev', 'otherNonOperatingIncome_prev',\n",
       "       'depreciation_prev', 'depreciationAndAmortization_prev',\n",
       "       'incomeBeforeTax_prev', 'incomeTaxExpense_prev',\n",
       "       'interestAndDebtExpense_prev', 'netIncomeFromContinuingOperations_prev',\n",
       "       'comprehensiveIncomeNetOfTax_prev', 'ebit_prev', 'ebitda_prev',\n",
       "       'netIncome_prev', 'grossMargin_prev', 'operatingMargin_prev',\n",
       "       'netProfitMargin_prev', 'interestCoverageRatio_prev'],\n",
       "      dtype='object')"
      ]
     },
     "execution_count": 6,
     "metadata": {},
     "output_type": "execute_result"
    }
   ],
   "source": [
    "pnl_concat_MSFT.columns"
   ]
  },
  {
   "cell_type": "code",
   "execution_count": 7,
   "metadata": {},
   "outputs": [],
   "source": [
    "# Calculating Generating Insights for prev year for concatenated files\n",
    "pnl_concat_MSFT[\"Previous year insights\"] = pnl_concat_MSFT.apply(f.generate_insights_pnl,axis=1)"
   ]
  },
  {
   "cell_type": "code",
   "execution_count": 17,
   "metadata": {},
   "outputs": [],
   "source": [
    "# Creating column for yeah comparison\n",
    "pnl_concat_MSFT[\"year_comparison_insight\"] = pnl_concat_MSFT.apply(f.yeah_comparison_pnl,axis=1)\n",
    "pnl_annual_MSFT[\"fiscalDateEnding\"] = pnl_concat_MSFT[\"fiscalDateEnding\"].fillna(0).astype(int)"
   ]
  },
  {
   "cell_type": "code",
   "execution_count": 16,
   "metadata": {},
   "outputs": [
    {
     "name": "stdout",
     "output_type": "stream",
     "text": [
      "Insights : Net Profit Margin was an impressive 36.92447690675923%, indicating strong overall profitability. The Interest Coverage Ratio was healthy at 31.307757885763, showing that the company has no issues covering its interest obligations.\n",
      "Prev.Year Insights : In 2021.0, the Gross Margin was 69.81968951885064% (previous year: 67.0%), which changed by 4.21% compared to the previous year. The Operating Margin was 42.134316845048694% (previous year: 34.0%), which changed by 23.92% compared to the previous year. The Net Profit Margin was 36.92447690675923% (previous year: 31.0%), which changed by 19.11% compared to the previous year. The Interest Coverage Ratio was 31.307757885763 (previous year: 17.0), which changed by 84.16% compared to the previous year. Total Revenue was 165936000000.0 (previous year: 123495000000.0), which changed by 34.37% compared to the previous year. Net Income was 61271000000.0 (previous year: 39240000000.0), which changed by 56.14% compared to the previous year. Operating Expenses were 48461000000.0 (previous year: 41874000000.0), which changed by 15.73% compared to the previous year. EBITDA was 75969000000.0 (previous year: 48274000000.0), which changed by 57.37% compared to the previous year.\n",
      "year comparison Insights : Total Revenue has grown compared to the previous year, indicating strong market demand. Gross Margin has improved compared to the previous year, suggesting better cost management. Operating Margin has increased compared to the previous year, reflecting enhanced operational efficiency. Net Income has grown compared to the previous year, indicating improved profitability.\n"
     ]
    }
   ],
   "source": [
    "cell_content = pnl_concat_MSFT.at[3,\"insights\"]\n",
    "print(F\"Insights : {cell_content}\")\n",
    "cell_content = pnl_concat_MSFT.at[3,\"Previous year insights\"]\n",
    "print(F\"Prev.Year Insights : {cell_content}\")\n",
    "cell_content = pnl_concat_MSFT.at[3,\"year_comparison_insight\"]\n",
    "print(F\"year comparison Insights : {cell_content}\")"
   ]
  },
  {
   "cell_type": "code",
   "execution_count": 11,
   "metadata": {},
   "outputs": [
    {
     "data": {
      "text/html": [
       "<div>\n",
       "<style scoped>\n",
       "    .dataframe tbody tr th:only-of-type {\n",
       "        vertical-align: middle;\n",
       "    }\n",
       "\n",
       "    .dataframe tbody tr th {\n",
       "        vertical-align: top;\n",
       "    }\n",
       "\n",
       "    .dataframe thead th {\n",
       "        text-align: right;\n",
       "    }\n",
       "</style>\n",
       "<table border=\"1\" class=\"dataframe\">\n",
       "  <thead>\n",
       "    <tr style=\"text-align: right;\">\n",
       "      <th></th>\n",
       "      <th>grossMargin</th>\n",
       "      <th>grossMargin_prev</th>\n",
       "    </tr>\n",
       "  </thead>\n",
       "  <tbody>\n",
       "    <tr>\n",
       "      <th>3</th>\n",
       "      <td>69.81969</td>\n",
       "      <td>67.0</td>\n",
       "    </tr>\n",
       "  </tbody>\n",
       "</table>\n",
       "</div>"
      ],
      "text/plain": [
       "   grossMargin  grossMargin_prev\n",
       "3     69.81969              67.0"
      ]
     },
     "execution_count": 11,
     "metadata": {},
     "output_type": "execute_result"
    }
   ],
   "source": [
    "pnl_concat_MSFT[pnl_concat_MSFT[\"fiscalDateEnding\"] == 2021][[\"grossMargin\",\"grossMargin_prev\"]]"
   ]
  },
  {
   "cell_type": "code",
   "execution_count": 14,
   "metadata": {},
   "outputs": [],
   "source": [
    "pnl_concat_MSFT.to_csv(\"Test.csv\",index=False)"
   ]
  },
  {
   "cell_type": "code",
   "execution_count": null,
   "metadata": {},
   "outputs": [],
   "source": []
  },
  {
   "cell_type": "code",
   "execution_count": null,
   "metadata": {},
   "outputs": [],
   "source": []
  }
 ],
 "metadata": {
  "kernelspec": {
   "display_name": "base",
   "language": "python",
   "name": "python3"
  },
  "language_info": {
   "codemirror_mode": {
    "name": "ipython",
    "version": 3
   },
   "file_extension": ".py",
   "mimetype": "text/x-python",
   "name": "python",
   "nbconvert_exporter": "python",
   "pygments_lexer": "ipython3",
   "version": "3.12.4"
  }
 },
 "nbformat": 4,
 "nbformat_minor": 2
}
