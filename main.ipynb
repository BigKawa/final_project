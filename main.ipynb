{
 "cells": [
  {
   "cell_type": "code",
   "execution_count": 1,
   "metadata": {},
   "outputs": [],
   "source": [
    "import pandas as pd\n",
    "import functions as f\n",
    "import matplotlib.pyplot as plt\n",
    "import seaborn as sns\n",
    "\n",
    "# Suppress the SettingWithCopyWarning globally\n",
    "pd.options.mode.chained_assignment = None"
   ]
  },
  {
   "cell_type": "markdown",
   "metadata": {},
   "source": [
    "### Initializing"
   ]
  },
  {
   "cell_type": "code",
   "execution_count": 2,
   "metadata": {},
   "outputs": [],
   "source": [
    "### Inistialize data ###\n",
    "\n",
    "# balance sheet Microsoft\n",
    "bs_annual_MSFT = pd.read_csv(\"data/bs_annual_MSFT.csv\")\n",
    "bs_annual_MSFT = f.cleaning(bs_annual_MSFT)\n",
    "\n",
    "# cashflow Microsoft\n",
    "cf_annual_MSFT = pd.read_csv(\"data/cf_annual_MSFT.csv\")\n",
    "cf_annual_MSFT = f.cleaning(cf_annual_MSFT)\n",
    "\n",
    "# income statement Microsoft\n",
    "pnl_annual_MSFT = pd.read_csv(\"data/pnl_annual_MSFT.csv\")\n",
    "pnl_annual_MSFT = f.cleaning(pnl_annual_MSFT)"
   ]
  },
  {
   "cell_type": "code",
   "execution_count": 3,
   "metadata": {},
   "outputs": [],
   "source": [
    "# calculating KPI for cashflow\n",
    "cf_annual_MSFT = f.calculate_kpi_cf(cf_annual_MSFT)\n",
    "cf_annual_MSFT['insights'] = cf_annual_MSFT.apply(f.generate_cashflow_insights, axis=1)"
   ]
  },
  {
   "cell_type": "code",
   "execution_count": 4,
   "metadata": {},
   "outputs": [],
   "source": [
    "# Calculating KPIs for pnl\n",
    "pnl_annual_MSFT = f.calculating_kpi_pnl(pnl_annual_MSFT)\n",
    "pnl_annual_MSFT[\"insights\"] = pnl_annual_MSFT.apply(f.generate_automated_insights,axis=1)"
   ]
  },
  {
   "cell_type": "code",
   "execution_count": 5,
   "metadata": {},
   "outputs": [],
   "source": [
    "# Creating a previous year file\n",
    "pnl_annual_MSFT_prev = f.create_prev_year(pnl_annual_MSFT)\n",
    "bs_annual_MSFT_prev = f.create_prev_year(bs_annual_MSFT)\n",
    "cf_annual_MSFT_prev = f.create_prev_year(cf_annual_MSFT)"
   ]
  },
  {
   "cell_type": "code",
   "execution_count": 6,
   "metadata": {},
   "outputs": [],
   "source": [
    "# Creating concatenated files\n",
    "pnl_concat_MSFT = pd.concat([pnl_annual_MSFT,pnl_annual_MSFT_prev],axis=1)\n",
    "bs_concat_MSFT = pd.concat([bs_annual_MSFT,bs_annual_MSFT_prev],axis=1)\n",
    "cf_concat_MSFT = pd.concat([cf_annual_MSFT,cf_annual_MSFT_prev],axis=1)"
   ]
  },
  {
   "cell_type": "markdown",
   "metadata": {},
   "source": [
    "### Calculating"
   ]
  },
  {
   "cell_type": "markdown",
   "metadata": {},
   "source": [
    "Calculating **prev year ** insights"
   ]
  },
  {
   "cell_type": "code",
   "execution_count": 7,
   "metadata": {},
   "outputs": [],
   "source": [
    "# Calculating Generating Insights for prev year for concatenated files\n",
    "pnl_concat_MSFT[\"previous_year_insights\"] = pnl_concat_MSFT.apply(f.generate_pnl_yoy_insights,axis=1)\n",
    "cf_concat_MSFT[\"previous_year_insights\"] = cf_concat_MSFT.apply(f.generate_cf_yoy_insights, axis=1)\n"
   ]
  },
  {
   "cell_type": "markdown",
   "metadata": {},
   "source": [
    "Calculating **year comparison**"
   ]
  },
  {
   "cell_type": "code",
   "execution_count": 8,
   "metadata": {},
   "outputs": [],
   "source": [
    "# Creating column for yeah comparison pnl\n",
    "pnl_concat_MSFT[\"year_comparison_insight\"] = pnl_concat_MSFT.apply(f.yeah_comparison_pnl,axis=1)\n",
    "pnl_concat_MSFT[\"fiscalDateEnding\"] = pnl_concat_MSFT[\"fiscalDateEnding\"].fillna(0).astype(int)"
   ]
  },
  {
   "cell_type": "code",
   "execution_count": 9,
   "metadata": {},
   "outputs": [],
   "source": [
    "# Creating column for yeah comparison cf\n",
    "cf_concat_MSFT[\"year_comparison_insight\"] = cf_concat_MSFT.apply(f.year_comparison_cf, axis=1)"
   ]
  },
  {
   "cell_type": "markdown",
   "metadata": {},
   "source": [
    "calculating **patterns**"
   ]
  },
  {
   "cell_type": "code",
   "execution_count": 10,
   "metadata": {},
   "outputs": [],
   "source": [
    "# Generate insights for each row in the DataFrame\n",
    "pnl_concat_MSFT[\"patterns\"] = f.generate_insights_pnl_multi_year(pnl_concat_MSFT)\n",
    "# Generate insights for each row in the DataFrame\n",
    "cf_concat_MSFT[\"patterns\"] = f.generate_insights_cf_multi_year(cf_concat_MSFT)"
   ]
  },
  {
   "cell_type": "markdown",
   "metadata": {},
   "source": [
    "### Testing"
   ]
  },
  {
   "cell_type": "code",
   "execution_count": 11,
   "metadata": {},
   "outputs": [
    {
     "name": "stdout",
     "output_type": "stream",
     "text": [
      "Insights : In 2020.0, the company demonstrated an excellent Gross Margin of 150.07040713119238%, highlighting strong cost efficiency in production. The Operating Margin was -115.31143879440988%, which is quite low and suggests potential inefficiencies in managing operational costs. Net Profit Margin was recorded at -108.15700527688227%, signaling profitability challenges. The Interest Coverage Ratio was 0.12181856335346004, suggesting some financial vulnerability when it comes to covering interest payments.\n",
      "Prev.Year Insights : In 2020, the Gross Margin was 150.07040713119238% (previous year: -125%), which changed by -220.06% compared to the previous year. The Net Profit Margin was -108.15700527688227% (previous year: -55%), which changed by 96.65% compared to the previous year. Total Revenue was -1230920768 (previous year: -1059051584), which changed by 16.23% compared to the previous year. Net Income was 1331327040 (previous year: 585294336), which changed by 127.46% compared to the previous year. Operating Expenses were -894640256 (previous year: -1075672960), which changed by -16.83% compared to the previous year. EBITDA was 2003425152 (previous year: 1029359744), which changed by 94.63% compared to the previous year.\n",
      "year comparison Insights : Total Revenue has grown compared to the previous year, indicating strong market demand. Gross Margin has decreased compared to the previous year, indicating rising production costs or pricing pressures. Net Income has grown compared to the previous year, indicating improved profitability.\n"
     ]
    }
   ],
   "source": [
    "cell_content = pnl_concat_MSFT.at[3,\"insights\"]\n",
    "print(F\"Insights : {cell_content}\")\n",
    "cell_content = pnl_concat_MSFT.at[3,\"previous_year_insights\"]\n",
    "print(F\"Prev.Year Insights : {cell_content}\")\n",
    "cell_content = pnl_concat_MSFT.at[3,\"year_comparison_insight\"]\n",
    "print(F\"year comparison Insights : {cell_content}\")"
   ]
  },
  {
   "cell_type": "code",
   "execution_count": 12,
   "metadata": {},
   "outputs": [
    {
     "name": "stdout",
     "output_type": "stream",
     "text": [
      "Insights : In 2020.0, the company reported a **negative Free Cash Flow** of -2010640256.0, which suggests challenges in generating enough cash to cover its capital expenditures. This could indicate potential liquidity issues. The Capital Expenditure Ratio was **-0.31** (classified as **high**), meaning a significant portion of operating cash flow was used for capital investments. This highlights an aggressive reinvestment approach, likely focused on future growth. The Operating Cash Flow Growth was **-15.48%**, indicating a **negative growth** compared to the previous year. This could be a warning sign of declining efficiency in generating cash from operations. The Dividend Payout Ratio was **-3.75** (classified as **low**), suggesting that the company retains a large portion of its cash flow for reinvestment and growth. The company reinvested only **-3.19** (classified as **low**) of its cash flow, indicating a limited focus on reinvestment, potentially prioritizing cash retention or dividend payouts.\n",
      "Prev.Year Insights : In 2020, Free Cash Flow decreased to -2010640256, down from -394705664 in the previous year, suggesting potential challenges in cash generation. The Capital Expenditure Ratio decreased to -0.31 from 0.00 in the previous year, indicating a more conservative investment approach. The Operating Cash Flow Growth rate improved to -15.48% from -30.00%, highlighting enhanced efficiency in generating cash from operations. The Dividend Payout Ratio decreased to -3.75 from 1.00, suggesting more cash was retained for reinvestment. The Reinvestment Ratio decreased to -3.19, down from 1.00, indicating a reduced emphasis on reinvestment.\n",
      "year comparison Insights : Free Cash Flow has increased by 409.40% compared to the previous year, indicating improved cash generation. Operating Cash Flow Growth has decreased by 48.39% compared to the previous year, which may indicate a decline in cash generation efficiency. Dividend Payout Ratio has decreased by 474.52% compared to the previous year, suggesting more cash is being retained for reinvestment. Reinvestment Ratio has decreased by 418.79% compared to the previous year, suggesting a reduced emphasis on reinvestment.\n"
     ]
    }
   ],
   "source": [
    "cell_content = cf_concat_MSFT.at[3,\"insights\"]\n",
    "print(F\"Insights : {cell_content}\")\n",
    "cell_content = cf_concat_MSFT.at[3,\"previous_year_insights\"]\n",
    "print(F\"Prev.Year Insights : {cell_content}\")\n",
    "cell_content = cf_concat_MSFT.at[3,\"year_comparison_insight\"]\n",
    "print(F\"year comparison Insights : {cell_content}\")"
   ]
  },
  {
   "cell_type": "code",
   "execution_count": null,
   "metadata": {},
   "outputs": [],
   "source": []
  }
 ],
 "metadata": {
  "kernelspec": {
   "display_name": "base",
   "language": "python",
   "name": "python3"
  },
  "language_info": {
   "codemirror_mode": {
    "name": "ipython",
    "version": 3
   },
   "file_extension": ".py",
   "mimetype": "text/x-python",
   "name": "python",
   "nbconvert_exporter": "python",
   "pygments_lexer": "ipython3",
   "version": "3.12.4"
  }
 },
 "nbformat": 4,
 "nbformat_minor": 2
}
