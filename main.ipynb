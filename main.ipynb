{
 "cells": [
  {
   "cell_type": "code",
   "execution_count": 64,
   "metadata": {},
   "outputs": [],
   "source": [
    "import pandas as pd\n",
    "import functions as f"
   ]
  },
  {
   "cell_type": "code",
   "execution_count": 67,
   "metadata": {},
   "outputs": [],
   "source": [
    "### Inistialize data ###\n",
    "\n",
    "# balance sheet Microsoft\n",
    "bs_annual_MSFT = pd.read_csv(\"data/bs_annual_MSFT.csv\")\n",
    "bs_annual_MSFT = f.first_clean(bs_annual_MSFT)\n",
    "\n",
    "# cashflow Microsoft\n",
    "cf_annual_MSFT = pd.read_csv(\"data/cf_annual_MSFT.csv\")\n",
    "cf_annual_MSFT = f.first_clean(cf_annual_MSFT)\n",
    "\n",
    "# income statement Microsoft\n",
    "pnl_annual_MSFT = pd.read_csv(\"data/pnl_annual_MSFT.csv\")\n",
    "pnl_annual_MSFT = f.first_clean(pnl_annual_MSFT)"
   ]
  },
  {
   "cell_type": "code",
   "execution_count": null,
   "metadata": {},
   "outputs": [],
   "source": []
  },
  {
   "cell_type": "code",
   "execution_count": null,
   "metadata": {},
   "outputs": [],
   "source": []
  }
 ],
 "metadata": {
  "kernelspec": {
   "display_name": "Python 3",
   "language": "python",
   "name": "python3"
  },
  "language_info": {
   "codemirror_mode": {
    "name": "ipython",
    "version": 3
   },
   "file_extension": ".py",
   "mimetype": "text/x-python",
   "name": "python",
   "nbconvert_exporter": "python",
   "pygments_lexer": "ipython3",
   "version": "3.12.4"
  }
 },
 "nbformat": 4,
 "nbformat_minor": 2
}
