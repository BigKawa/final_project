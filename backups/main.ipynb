{
 "cells": [
  {
   "cell_type": "code",
   "execution_count": 10,
   "metadata": {},
   "outputs": [],
   "source": [
    "import pandas as pd\n",
    "import functions as f\n",
    "import matplotlib.pyplot as plt\n",
    "import seaborn as sns\n",
    "import data_extraction_file as data\n",
    "# Suppress the SettingWithCopyWarning globally\n",
    "pd.options.mode.chained_assignment = None"
   ]
  },
  {
   "cell_type": "code",
   "execution_count": 11,
   "metadata": {},
   "outputs": [],
   "source": [
    "input_symbol = \"MSFT\"\n",
    "\n",
    "bs_annual, pnl_annual, cf_annual = data.extract_financial_Data(input_symbol) "
   ]
  },
  {
   "cell_type": "markdown",
   "metadata": {},
   "source": [
    "### Initializing"
   ]
  },
  {
   "cell_type": "code",
   "execution_count": 15,
   "metadata": {},
   "outputs": [],
   "source": [
    "### Inistialize data ###\n",
    "\n",
    "# balance sheet Microsoft\n",
    "bs_annual_MSFT = pd.read_csv(\"data/bs_annual_MSFT.csv\")\n",
    "bs_annual_MSFT = f.cleaning(bs_annual_MSFT)\n",
    "\n",
    "# cashflow Microsoft\n",
    "cf_annual_MSFT = pd.read_csv(\"data/cf_annual_MSFT.csv\")\n",
    "cf_annual_MSFT = f.cleaning(cf_annual_MSFT)\n",
    "\n",
    "# income statement Microsoft\n",
    "pnl_annual_MSFT = pd.read_csv(\"data/pnl_annual_MSFT.csv\")\n",
    "pnl_annual_MSFT = f.cleaning(pnl_annual_MSFT)"
   ]
  },
  {
   "cell_type": "code",
   "execution_count": 16,
   "metadata": {},
   "outputs": [],
   "source": [
    "# calculating KPI for cashflow\n",
    "cf_annual_MSFT = f.calculate_kpi_cf(cf_annual_MSFT)\n",
    "cf_annual_MSFT['insights'] = cf_annual_MSFT.apply(f.generate_cashflow_insights, axis=1)"
   ]
  },
  {
   "cell_type": "code",
   "execution_count": 17,
   "metadata": {},
   "outputs": [],
   "source": [
    "# Calculating KPIs for pnl\n",
    "pnl_annual_MSFT = f.calculating_kpi_pnl(pnl_annual_MSFT)\n",
    "pnl_annual_MSFT[\"insights\"] = pnl_annual_MSFT.apply(f.generate_automated_insights,axis=1)"
   ]
  },
  {
   "cell_type": "code",
   "execution_count": 18,
   "metadata": {},
   "outputs": [],
   "source": [
    "# Calculating KPIs for balance sheet\n",
    "bs_annual_MSFT = f.calculate_kpi_bs(bs_annual_MSFT)\n",
    "bs_annual_MSFT[\"insights\"] = bs_annual_MSFT.apply(f.generate_insights_bs, axis=1)"
   ]
  },
  {
   "cell_type": "code",
   "execution_count": 19,
   "metadata": {},
   "outputs": [],
   "source": [
    "# Creating a previous year file\n",
    "pnl_annual_MSFT_prev = f.create_prev_year(pnl_annual_MSFT)\n",
    "bs_annual_MSFT_prev = f.create_prev_year(bs_annual_MSFT)\n",
    "cf_annual_MSFT_prev = f.create_prev_year(cf_annual_MSFT)"
   ]
  },
  {
   "cell_type": "code",
   "execution_count": 20,
   "metadata": {},
   "outputs": [],
   "source": [
    "# Creating concatenated files\n",
    "pnl_concat_MSFT = pd.concat([pnl_annual_MSFT,pnl_annual_MSFT_prev],axis=1)\n",
    "bs_concat_MSFT = pd.concat([bs_annual_MSFT,bs_annual_MSFT_prev],axis=1)\n",
    "cf_concat_MSFT = pd.concat([cf_annual_MSFT,cf_annual_MSFT_prev],axis=1)"
   ]
  },
  {
   "cell_type": "markdown",
   "metadata": {},
   "source": [
    "### Calculating"
   ]
  },
  {
   "cell_type": "markdown",
   "metadata": {},
   "source": [
    "Calculating **prev year ** insights"
   ]
  },
  {
   "cell_type": "code",
   "execution_count": 21,
   "metadata": {},
   "outputs": [],
   "source": [
    "# Calculating Generating Insights for prev year for concatenated files\n",
    "pnl_concat_MSFT[\"previous_year_insights\"] = pnl_concat_MSFT.apply(f.generate_pnl_yoy_insights,axis=1)\n",
    "cf_concat_MSFT[\"previous_year_insights\"] = cf_concat_MSFT.apply(f.generate_cf_yoy_insights, axis=1)\n",
    "bs_concat_MSFT[\"previous_year_insights\"] = bs_concat_MSFT.apply(f.generate_bs_yoy_insights, axis=1)"
   ]
  },
  {
   "cell_type": "markdown",
   "metadata": {},
   "source": [
    "Calculating **year comparison**"
   ]
  },
  {
   "cell_type": "code",
   "execution_count": 22,
   "metadata": {},
   "outputs": [],
   "source": [
    "# Creating column for yeah comparison pnl\n",
    "pnl_concat_MSFT[\"year_comparison_insight\"] = pnl_concat_MSFT.apply(f.yeah_comparison_pnl,axis=1)\n",
    "pnl_concat_MSFT[\"fiscalDateEnding\"] = pnl_concat_MSFT[\"fiscalDateEnding\"].fillna(0).astype(int)"
   ]
  },
  {
   "cell_type": "code",
   "execution_count": 23,
   "metadata": {},
   "outputs": [],
   "source": [
    "# Creating column for yeah comparison cf\n",
    "cf_concat_MSFT[\"year_comparison_insight\"] = cf_concat_MSFT.apply(f.year_comparison_cf, axis=1)"
   ]
  },
  {
   "cell_type": "code",
   "execution_count": 24,
   "metadata": {},
   "outputs": [],
   "source": [
    "# Creating column for yeah comparison balance sheet\n",
    "bs_concat_MSFT[\"year_comparison_insight\"] = bs_concat_MSFT.apply(f.year_comparison_bs, axis=1)"
   ]
  },
  {
   "cell_type": "markdown",
   "metadata": {},
   "source": [
    "calculating **patterns**"
   ]
  },
  {
   "cell_type": "code",
   "execution_count": 25,
   "metadata": {},
   "outputs": [],
   "source": [
    "# Generate insights for each row in the DataFrame pnl\n",
    "pnl_concat_MSFT[\"patterns\"] = f.generate_insights_pnl_multi_year(pnl_concat_MSFT)\n",
    "# Generate insights for each row in the DataFrame cashflow\n",
    "cf_concat_MSFT[\"patterns\"] = f.generate_insights_cf_multi_year(cf_concat_MSFT)\n",
    "# Generate insights for each row in the DataFrame balance sheet\n",
    "bs_concat_MSFT[\"patterns\"] = f.generate_bs_multi_year_insights(bs_concat_MSFT)"
   ]
  },
  {
   "cell_type": "markdown",
   "metadata": {},
   "source": [
    "### Testing"
   ]
  },
  {
   "cell_type": "code",
   "execution_count": 26,
   "metadata": {},
   "outputs": [
    {
     "name": "stdout",
     "output_type": "stream",
     "text": [
      "Insights : The Interest Coverage Ratio was healthy at 21.469316866074873, showing that the company has no issues covering its interest obligations.\n",
      "Prev.Year Insights : In 2020, the Gross Margin was 68.99283289324784% (previous year: 67%), which changed by 2.97% compared to the previous year. The Operating Margin was 37.69243361351715% (previous year: 34%), which changed by 10.86% compared to the previous year. The Net Profit Margin was 31.516053038013425% (previous year: 31%), which changed by 1.66% compared to the previous year. The Interest Coverage Ratio was 21.469316866074873 (previous year: 17), which changed by 26.29% compared to the previous year. Total Revenue was 140503000000 (previous year: -2147483648), which changed by -6642.68% compared to the previous year. Net Income was 44281000000 (previous year: -2147483648), which changed by -2161.99% compared to the previous year. Operating Expenses were 46350000000 (previous year: -2147483648), which changed by -2258.34% compared to the previous year. EBITDA was 57838000000 (previous year: -2147483648), which changed by -2793.29% compared to the previous year.\n",
      "year comparison Insights : Total Revenue has declined compared to the previous year, indicating potential market challenges. Gross Margin has improved compared to the previous year, suggesting better cost management. Operating Margin has increased compared to the previous year, reflecting enhanced operational efficiency. Net Income has declined compared to the previous year, which may signal profitability challenges.\n",
      "patterns : The grossProfit has grown consistently over the past three years ending in 2020. The totalRevenue has grown consistently over the past three years ending in 2020. The costOfRevenue has grown consistently over the past three years ending in 2020. The costofGoodsAndServicesSold has grown consistently over the past three years ending in 2020. The operatingIncome has grown consistently over the past three years ending in 2020. The sellingGeneralAndAdministrative has grown consistently over the past three years ending in 2020. The researchAndDevelopment has grown consistently over the past three years ending in 2020. The operatingExpenses has grown consistently over the past three years ending in 2020. The investmentIncomeNet has shown fluctuations over the past three years ending in 2020. The netInterestIncome has grown consistently over the past three years ending in 2020. The interestIncome has shown fluctuations over the past three years ending in 2020. The interestExpense has declined consistently over the past three years ending in 2020. The nonInterestIncome has grown consistently over the past three years ending in 2020. The otherNonOperatingIncome has grown consistently over the past three years ending in 2020. The depreciation has grown consistently over the past three years ending in 2020. The depreciationAndAmortization has shown fluctuations over the past three years ending in 2020. The incomeBeforeTax has grown consistently over the past three years ending in 2020. The incomeTaxExpense has shown fluctuations over the past three years ending in 2020. The interestAndDebtExpense has declined consistently over the past three years ending in 2020. The netIncomeFromContinuingOperations has grown consistently over the past three years ending in 2020. The comprehensiveIncomeNetOfTax has grown consistently over the past three years ending in 2020. The ebit has grown consistently over the past three years ending in 2020. The ebitda has grown consistently over the past three years ending in 2020. The netIncome has grown consistently over the past three years ending in 2020. The grossMargin has shown fluctuations over the past three years ending in 2020. The operatingMargin has grown consistently over the past three years ending in 2020. The netProfitMargin has shown fluctuations over the past three years ending in 2020. The interestCoverageRatio has grown consistently over the past three years ending in 2020.\n"
     ]
    }
   ],
   "source": [
    "cell_content = pnl_concat_MSFT.at[3,\"insights\"]\n",
    "print(F\"Insights : {cell_content}\")\n",
    "cell_content = pnl_concat_MSFT.at[3,\"previous_year_insights\"]\n",
    "print(F\"Prev.Year Insights : {cell_content}\")\n",
    "cell_content = pnl_concat_MSFT.at[3,\"year_comparison_insight\"]\n",
    "print(F\"year comparison Insights : {cell_content}\")\n",
    "cell_content = pnl_concat_MSFT.at[3,\"patterns\"]\n",
    "print(F\"patterns : {cell_content}\")"
   ]
  },
  {
   "cell_type": "code",
   "execution_count": 27,
   "metadata": {},
   "outputs": [
    {
     "name": "stdout",
     "output_type": "stream",
     "text": [
      "Insights : In 2020.0, the company generated a **high Free Cash Flow** of 45234000000.0, indicating strong cash generation and suggesting significant potential for expansion, dividend payouts, or debt reduction. The Capital Expenditure Ratio was **3.93** (classified as **low**), suggesting the company is retaining a substantial portion of its operating cash flow, which could imply a conservative stance toward capital reinvestment. The Operating Cash Flow Growth was **16.27%**, classified as **high growth**, indicating significant improvement in cash generation over the past year, which reflects well on the company's operational efficiency. The Dividend Payout Ratio was **0.25** (classified as **low**), suggesting that the company retains a large portion of its cash flow for reinvestment and growth. The company reinvested **0.25** (classified as **moderate**) of its cash flow, suggesting a balanced approach to using cash for reinvestment and other purposes.\n",
      "Prev.Year Insights : In 2020, Free Cash Flow increased to 45234000000, compared to -2147483648 in the previous year, indicating improved cash generation efficiency. The Capital Expenditure Ratio increased to 3.93, up from 3.00, suggesting increased reinvestment in growth initiatives. The Operating Cash Flow Growth rate declined to 16.27% from 18.00%, which may indicate reduced operational efficiency. The Dividend Payout Ratio increased to 0.25, compared to 0.00 in the previous year, showing a greater focus on rewarding shareholders. The Reinvestment Ratio increased to 0.25, up from 0.00, reflecting a stronger focus on business growth.\n",
      "year comparison Insights : Free Cash Flow has decreased by 2206.37% compared to the previous year, suggesting potential challenges in cash generation. Capital Expenditure Ratio has increased by 30.98% compared to the previous year, indicating a higher focus on reinvestment in growth. Operating Cash Flow Growth has decreased by 9.62% compared to the previous year, which may indicate a decline in cash generation efficiency.\n",
      "patterns : The operatingCashflow has grown consistently over the past three years ending in 2020. The paymentsForOperatingActivities has grown consistently over the past three years ending in 2020. The proceedsFromOperatingActivities has remained stable over the past three years ending in 2020. The changeInOperatingLiabilities has declined consistently over the past three years ending in 2020. The changeInOperatingAssets has grown consistently over the past three years ending in 2020. The depreciationDepletionAndAmortization has grown consistently over the past three years ending in 2020. The capitalExpenditures has grown consistently over the past three years ending in 2020. The changeInReceivables has declined consistently over the past three years ending in 2020. The changeInInventory has shown fluctuations over the past three years ending in 2020. The profitLoss has grown consistently over the past three years ending in 2020. The cashflowFromInvestment has shown fluctuations over the past three years ending in 2020. The cashflowFromFinancing has declined consistently over the past three years ending in 2020. The proceedsFromRepaymentsOfShortTermDebt has shown fluctuations over the past three years ending in 2020. The paymentsForRepurchaseOfCommonStock has grown consistently over the past three years ending in 2020. The paymentsForRepurchaseOfEquity has grown consistently over the past three years ending in 2020. The paymentsForRepurchaseOfPreferredStock has remained stable over the past three years ending in 2020. The dividendPayout has grown consistently over the past three years ending in 2020. The dividendPayoutCommonStock has grown consistently over the past three years ending in 2020. The dividendPayoutPreferredStock has remained stable over the past three years ending in 2020. The proceedsFromIssuanceOfCommonStock has grown consistently over the past three years ending in 2020. The proceedsFromIssuanceOfLongTermDebtAndCapitalSecuritiesNet has remained stable over the past three years ending in 2020. The proceedsFromIssuanceOfPreferredStock has remained stable over the past three years ending in 2020. The proceedsFromRepurchaseOfEquity has declined consistently over the past three years ending in 2020. The proceedsFromSaleOfTreasuryStock has remained stable over the past three years ending in 2020. The changeInCashAndCashEquivalents has shown fluctuations over the past three years ending in 2020. The changeInExchangeRate has declined consistently over the past three years ending in 2020. The netIncome has grown consistently over the past three years ending in 2020. The freeCashFlow has grown consistently over the past three years ending in 2020. The capitalExpenditureRatio has shown fluctuations over the past three years ending in 2020. The operatingCashFlowGrowth has shown fluctuations over the past three years ending in 2020. The dividendPayoutRatio has declined consistently over the past three years ending in 2020. The reinvestmentRatio has shown fluctuations over the past three years ending in 2020.\n"
     ]
    }
   ],
   "source": [
    "cell_content = cf_concat_MSFT.at[3,\"insights\"]\n",
    "print(F\"Insights : {cell_content}\")\n",
    "cell_content = cf_concat_MSFT.at[3,\"previous_year_insights\"]\n",
    "print(F\"Prev.Year Insights : {cell_content}\")\n",
    "cell_content = cf_concat_MSFT.at[3,\"year_comparison_insight\"]\n",
    "print(F\"year comparison Insights : {cell_content}\")\n",
    "cell_content = cf_concat_MSFT.at[3,\"patterns\"]\n",
    "print(F\"patterns : {cell_content}\")"
   ]
  },
  {
   "cell_type": "code",
   "execution_count": 28,
   "metadata": {},
   "outputs": [
    {
     "name": "stdout",
     "output_type": "stream",
     "text": [
      "Insights : In 2021.0, the current ratio was 2.08, indicating strong liquidity. The quick ratio in 2021.0 was 2.05, indicating good short-term financial health without dependence on inventory. The cash ratio in 2021.0 was 0.16, suggesting limited cash available to cover short-term liabilities. The company's debt-to-assets ratio in 2021.0 was 0.57, indicating a higher portion of assets financed by debt. In 2021.0, the debt-to-equity ratio was 1.35, indicating moderate leverage. The equity ratio in 2021.0 was 0.43, which may indicate a higher reliance on debt financing. The working capital in 2021.0 was 95749000000.00, indicating the company's ability to cover short-term liabilities. The net working capital ratio in 2021.0 was 0.29, indicating adequate working capital relative to the company's total assets. The book value per share in 2021.0 was 18.88, providing an indication of the per-share equity value available to shareholders.\n",
      "Prev.Year Insights : In 2021, the Current Ratio was 2.08 (previous year: 2.00), which changed by 4.00% compared to the previous year. The Quick Ratio was 2.05 (previous year: 2.00), which changed by 2.51% compared to the previous year. The Debt-to-Equity Ratio was 1.35 (previous year: 1.00), which changed by 35.08% compared to the previous year. The Working Capital was 95749000000.00 (previous year: -2147483648.00), which changed by -4558.66% compared to the previous year. The Book Value per Share was 18.88 (previous year: 15.00), which changed by 25.89% compared to the previous year.\n",
      "year comparison Insights : Current Ratio has increased by 4.00% compared to the previous year, indicating improved short-term liquidity and a better ability to cover short-term obligations. Quick Ratio has increased by 2.51% compared to the previous year, suggesting improved liquidity without relying on inventory. Debt-to-Equity Ratio has increased by 35.08% compared to the previous year, reflecting higher financial leverage and increased risk for shareholders. Working Capital has decreased by 4558.66% compared to the previous year, indicating potential liquidity issues in meeting short-term obligations. Book Value per Share has increased by 25.89% compared to the previous year, indicating a higher per-share equity value available to shareholders.\n",
      "patterns : The totalAssets has grown consistently over the past three years ending in 2021. The totalCurrentAssets has grown consistently over the past three years ending in 2021. The cashAndCashEquivalentsAtCarryingValue has grown consistently over the past three years ending in 2021. The cashAndShortTermInvestments has shown fluctuations over the past three years ending in 2021. The inventory has shown fluctuations over the past three years ending in 2021. The currentNetReceivables has grown consistently over the past three years ending in 2021. The totalNonCurrentAssets has grown consistently over the past three years ending in 2021. The propertyPlantEquipment has grown consistently over the past three years ending in 2021. The accumulatedDepreciationAmortizationPPE has grown consistently over the past three years ending in 2021. The intangibleAssets has grown consistently over the past three years ending in 2021. The intangibleAssetsExcludingGoodwill has shown fluctuations over the past three years ending in 2021. The goodwill has grown consistently over the past three years ending in 2021. The investments has shown fluctuations over the past three years ending in 2021. The longTermInvestments has grown consistently over the past three years ending in 2021. The shortTermInvestments has shown fluctuations over the past three years ending in 2021. The otherCurrentAssets has grown consistently over the past three years ending in 2021. The otherNonCurrentAssets has shown fluctuations over the past three years ending in 2021. The totalLiabilities has shown fluctuations over the past three years ending in 2021. The totalCurrentLiabilities has grown consistently over the past three years ending in 2021. The currentAccountsPayable has grown consistently over the past three years ending in 2021. The deferredRevenue has grown consistently over the past three years ending in 2021. The currentDebt has shown fluctuations over the past three years ending in 2021. The shortTermDebt has grown consistently over the past three years ending in 2021. The totalNonCurrentLiabilities has shown fluctuations over the past three years ending in 2021. The capitalLeaseObligations has grown consistently over the past three years ending in 2021. The longTermDebt has declined consistently over the past three years ending in 2021. The currentLongTermDebt has shown fluctuations over the past three years ending in 2021. The longTermDebtNoncurrent has declined consistently over the past three years ending in 2021. The shortLongTermDebtTotal has declined consistently over the past three years ending in 2021. The otherCurrentLiabilities has grown consistently over the past three years ending in 2021. The otherNonCurrentLiabilities has grown consistently over the past three years ending in 2021. The totalShareholderEquity has grown consistently over the past three years ending in 2021. The treasuryStock has remained stable over the past three years ending in 2021. The retainedEarnings has grown consistently over the past three years ending in 2021. The commonStock has grown consistently over the past three years ending in 2021. The commonStockSharesOutstanding has declined consistently over the past three years ending in 2021. The currentRatio has declined consistently over the past three years ending in 2021. The quickRatio has declined consistently over the past three years ending in 2021. The cashRatio has shown fluctuations over the past three years ending in 2021. The debtToAssetsRatio has declined consistently over the past three years ending in 2021. The debtToEquityRatio has declined consistently over the past three years ending in 2021. The equityRatio has grown consistently over the past three years ending in 2021. The workingCapital has shown fluctuations over the past three years ending in 2021. The netWorkingCapitalRatio has declined consistently over the past three years ending in 2021. The bookValuePerShare has grown consistently over the past three years ending in 2021.\n"
     ]
    }
   ],
   "source": [
    "cell_content = bs_concat_MSFT.at[3,\"insights\"]\n",
    "print(F\"Insights : {cell_content}\")\n",
    "cell_content = bs_concat_MSFT.at[3,\"previous_year_insights\"]\n",
    "print(F\"Prev.Year Insights : {cell_content}\")\n",
    "cell_content = bs_concat_MSFT.at[3,\"year_comparison_insight\"]\n",
    "print(F\"year comparison Insights : {cell_content}\")\n",
    "cell_content = bs_concat_MSFT.at[3,\"patterns\"]\n",
    "print(F\"patterns : {cell_content}\")"
   ]
  },
  {
   "cell_type": "code",
   "execution_count": null,
   "metadata": {},
   "outputs": [],
   "source": []
  },
  {
   "cell_type": "code",
   "execution_count": null,
   "metadata": {},
   "outputs": [],
   "source": []
  }
 ],
 "metadata": {
  "kernelspec": {
   "display_name": "base",
   "language": "python",
   "name": "python3"
  },
  "language_info": {
   "codemirror_mode": {
    "name": "ipython",
    "version": 3
   },
   "file_extension": ".py",
   "mimetype": "text/x-python",
   "name": "python",
   "nbconvert_exporter": "python",
   "pygments_lexer": "ipython3",
   "version": "3.12.4"
  }
 },
 "nbformat": 4,
 "nbformat_minor": 2
}
