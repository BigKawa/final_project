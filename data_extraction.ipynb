{
 "cells": [
  {
   "cell_type": "code",
   "execution_count": null,
   "metadata": {},
   "outputs": [],
   "source": [
    "import pandas as pd\n",
    "from alpha_vantage.timeseries import TimeSeries\n",
    "from alpha_vantage.fundamentaldata import FundamentalData\n",
    "\n",
    "api_key_2 =\"JP7TLKK2YPF8I2ER\"\n",
    "api_key = \"34KPIW7MIZGD3P5R\"\n",
    "\n",
    "\n",
    "fd = FundamentalData(key= api_key_2, output_format=\"pandas\")\n",
    "ts = TimeSeries(key= api_key_2, output_format=\"pandas\")"
   ]
  },
  {
   "cell_type": "code",
   "execution_count": null,
   "metadata": {},
   "outputs": [],
   "source": [
    "fd = FundamentalData(key= api_key_2, output_format=\"pandas\")\n",
    "ts = TimeSeries(key= api_key_2, output_format=\"pandas\")"
   ]
  },
  {
   "cell_type": "code",
   "execution_count": null,
   "metadata": {},
   "outputs": [],
   "source": [
    "## API CALL LIMITED 25 PER DAY\n",
    "cf_annual = fd.get_cash_flow_annual(\"AMZN\")[0].T\n",
    "bs_annual = fd.get_balance_sheet_annual(\"AMZN\")[0].T\n",
    "pnl_annual = fd.get_income_statement_annual(\"AMZN\")[0].T"
   ]
  },
  {
   "cell_type": "code",
   "execution_count": null,
   "metadata": {},
   "outputs": [],
   "source": [
    "# Cashflow \n",
    "cf_annual = cf_annual[2:]  # drop the first two rows \"Fiscal year ending\" and \"Reported currency\"\n",
    "cf_annual.columns = list(cf_annual.iloc[0])  # take the first row as column names\n",
    "cf_annual"
   ]
  },
  {
   "cell_type": "code",
   "execution_count": null,
   "metadata": {},
   "outputs": [],
   "source": [
    "# Balance Sheet\n",
    "bs_annual.columns = list(bs_annual.iloc[0])  # take the first row as column names\n",
    "bs_annual = data[2:]  # drop the first two rows \"Fiscal year ending\" and \"Reported currency\"\n",
    "bs_annual.head()"
   ]
  },
  {
   "cell_type": "code",
   "execution_count": null,
   "metadata": {},
   "outputs": [],
   "source": [
    "# Income Statement\n",
    "pnl_annual = pnl_annual[2:]  # drop the first two rows \"Fiscal year ending\" and \"Reported currency\"\n",
    "pnl_annual.columns = list(pnl_annual.iloc[0])  # take the first row as column names\n",
    "pnl_annual"
   ]
  }
 ],
 "metadata": {
  "language_info": {
   "name": "python"
  }
 },
 "nbformat": 4,
 "nbformat_minor": 2
}
